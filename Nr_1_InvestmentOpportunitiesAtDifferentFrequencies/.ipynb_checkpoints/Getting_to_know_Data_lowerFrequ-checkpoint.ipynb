{
 "cells": [
  {
   "cell_type": "markdown",
   "metadata": {},
   "source": [
    "# Voluntary Problem Set\n",
    "\n",
    "This problem set allows you to play around with concepts from class and to solve some smaller problems on your own. \n",
    "\n"
   ]
  },
  {
   "cell_type": "markdown",
   "metadata": {},
   "source": [
    "# Topic: EU Blue Chip Returns at Different Frequencies"
   ]
  },
  {
   "cell_type": "markdown",
   "metadata": {},
   "source": [
    "## A. Investment Opportunity Set at Different Frequencies"
   ]
  },
  {
   "cell_type": "markdown",
   "metadata": {},
   "source": [
    "Load-in the daily return panel of EU Blue Chips from class. Ensure that you work with a pandas data frame and a date time index. As you compute \"r_d.info()\" it will tell you whether or not r_d as a \"DatetimeIndex\".\n",
    "\n",
    "As your daily $r_d$ works with a \"DatetimeIndex\" you can easily change the frequency of your time series. Therefore, use the \".resample() function\" to compute a data panel of \n",
    "\n",
    "- monthly log returns\n",
    "\n",
    "- quarterly log returns\n",
    "\n",
    "- annual log returns\n",
    "\n",
    "Figure out whether annualized mean returns, annualized return volatilities and annualized raw Sharp Ratios differ depending on whether you compute these using daily, monthly, quarterly or annual log returns. \n",
    "\n",
    "Discuss the impact that the frequency has on the precision of the estimate of annualized mean returns.\n",
    "\n"
   ]
  },
  {
   "cell_type": "code",
   "execution_count": 198,
   "metadata": {},
   "outputs": [],
   "source": [
    "# Imports\n",
    "import pandas as pd\n",
    "import numpy as np\n",
    "import math\n",
    "\n",
    "from scipy.stats import skew\n",
    "from scipy.stats import kurtosis"
   ]
  },
  {
   "cell_type": "code",
   "execution_count": 199,
   "metadata": {},
   "outputs": [
    {
     "data": {
      "text/plain": [
       "(5383, 43)"
      ]
     },
     "execution_count": 199,
     "metadata": {},
     "output_type": "execute_result"
    }
   ],
   "source": [
    "df = pd.read_csv(\"r_ES50_d_cleaned_realized_Nov2020.csv\", index_col=0, header=0, parse_dates=True)\n",
    "df.shape"
   ]
  },
  {
   "cell_type": "code",
   "execution_count": 200,
   "metadata": {},
   "outputs": [],
   "source": [
    "# Monthly log returns\n",
    "monthly_r = df.resample('1M').sum()\n",
    "task_a1 = monthly_r[\"1/N\"][\"2019-12-31\"]"
   ]
  },
  {
   "cell_type": "code",
   "execution_count": 201,
   "metadata": {},
   "outputs": [
    {
     "name": "stdout",
     "output_type": "stream",
     "text": [
      "Log return in Dec 19 0.01\n"
     ]
    }
   ],
   "source": [
    "print(\"Log return in Dec 19\", round(task_a1,2))"
   ]
  },
  {
   "cell_type": "code",
   "execution_count": 202,
   "metadata": {},
   "outputs": [
    {
     "name": "stdout",
     "output_type": "stream",
     "text": [
      "Log return in Q4 2019 0.04\n"
     ]
    }
   ],
   "source": [
    "# quarterly log returns\n",
    "quarterly_r = df.resample('1Q').sum()\n",
    "task_a2 = quarterly_r[\"1/N\"][\"2019-12-31\"]\n",
    "print(\"Log return in Q4 2019\", round(task_a2,2))"
   ]
  },
  {
   "cell_type": "code",
   "execution_count": 203,
   "metadata": {},
   "outputs": [
    {
     "name": "stdout",
     "output_type": "stream",
     "text": [
      "Log return in 2019 0.23\n"
     ]
    }
   ],
   "source": [
    "# annual returns\n",
    "annual_r = df.resample('1Y').sum()\n",
    "task_a3 = annual_r[\"1/N\"][\"2019-12-31\"]\n",
    "print(\"Log return in 2019\", round(task_a3,2))"
   ]
  },
  {
   "cell_type": "code",
   "execution_count": 204,
   "metadata": {},
   "outputs": [
    {
     "data": {
      "text/html": [
       "<div>\n",
       "<style scoped>\n",
       "    .dataframe tbody tr th:only-of-type {\n",
       "        vertical-align: middle;\n",
       "    }\n",
       "\n",
       "    .dataframe tbody tr th {\n",
       "        vertical-align: top;\n",
       "    }\n",
       "\n",
       "    .dataframe thead th {\n",
       "        text-align: right;\n",
       "    }\n",
       "</style>\n",
       "<table border=\"1\" class=\"dataframe\">\n",
       "  <thead>\n",
       "    <tr style=\"text-align: right;\">\n",
       "      <th></th>\n",
       "      <th>Monthly</th>\n",
       "      <th>Quarterly</th>\n",
       "      <th>Annual</th>\n",
       "    </tr>\n",
       "  </thead>\n",
       "  <tbody>\n",
       "    <tr>\n",
       "      <th>mean</th>\n",
       "      <td>0.05</td>\n",
       "      <td>0.05</td>\n",
       "      <td>0.05</td>\n",
       "    </tr>\n",
       "    <tr>\n",
       "      <th>std</th>\n",
       "      <td>0.19</td>\n",
       "      <td>0.22</td>\n",
       "      <td>0.20</td>\n",
       "    </tr>\n",
       "    <tr>\n",
       "      <th>SR_raw</th>\n",
       "      <td>0.28</td>\n",
       "      <td>0.24</td>\n",
       "      <td>0.26</td>\n",
       "    </tr>\n",
       "  </tbody>\n",
       "</table>\n",
       "</div>"
      ],
      "text/plain": [
       "        Monthly  Quarterly  Annual\n",
       "mean       0.05       0.05    0.05\n",
       "std        0.19       0.22    0.20\n",
       "SR_raw     0.28       0.24    0.26"
      ]
     },
     "execution_count": 204,
     "metadata": {},
     "output_type": "execute_result"
    }
   ],
   "source": [
    "InvOpp_m = monthly_r.agg([\"mean\", \"std\"]).T\n",
    "InvOpp_q = quarterly_r.agg([\"mean\", \"std\"]).T\n",
    "InvOpp_a = annual_r.agg([\"mean\", \"std\"]).T\n",
    "\n",
    "def annualize_mean_std(df, factor):\n",
    "    df[\"mean\"] *= factor\n",
    "    df[\"std\"] *= np.sqrt(factor)\n",
    "    return df\n",
    "\n",
    "InvOpp_m = annualize_mean_std(InvOpp_m, 12)    \n",
    "InvOpp_q = annualize_mean_std(InvOpp_q, 4)\n",
    "\n",
    "InvOpp_m[\"SR_raw\"] = InvOpp_m.iloc[:,0] / InvOpp_m.iloc[:,1] # calc sharp ratio with r_market = 0\n",
    "InvOpp_q[\"SR_raw\"] = InvOpp_q.iloc[:,0] / InvOpp_q.iloc[:,1] # calc sharp ratio with r_market = 0\n",
    "InvOpp_a[\"SR_raw\"] = InvOpp_a.iloc[:,0] / InvOpp_a.iloc[:,1] # calc sharp ratio with r_market = 0\n",
    "\n",
    "\n",
    "# annualized mean returns \n",
    "# Annualized return volatilities\n",
    "# Annualized raw Sharp Ratios\n",
    "\n",
    "res = pd.DataFrame({ \n",
    "    \"Monthly\":    InvOpp_m.loc[\"1/N\",:],\n",
    "    \"Quarterly\":  InvOpp_q.loc[\"1/N\",:],\n",
    "    \"Annual\":     InvOpp_a.loc[\"1/N\",:]\n",
    "})\n",
    "\n",
    "res = res.apply(lambda x: round(x, 2))\n",
    "\n",
    "res\n",
    "\n",
    "# Solution says No, but it differs slightly ? But no trend\n",
    "\n"
   ]
  },
  {
   "cell_type": "code",
   "execution_count": 205,
   "metadata": {},
   "outputs": [
    {
     "name": "stdout",
     "output_type": "stream",
     "text": [
      "Ratio is 0.98\n"
     ]
    }
   ],
   "source": [
    "\n",
    "InvOpp = df.agg([\"mean\", \"std\"]).T\n",
    "InvOpp = annualize_mean_std(InvOpp, 252) # 252 trading days\n",
    "\n",
    "print(\"Ratio is\", round(InvOpp.loc[\"1/N\",\"mean\"] / InvOpp_a.loc[\"1/N\",\"mean\"], 2))"
   ]
  },
  {
   "cell_type": "markdown",
   "metadata": {},
   "source": [
    "## B. Skewness   at Different Frequencies"
   ]
  },
  {
   "cell_type": "markdown",
   "metadata": {},
   "source": [
    "Compute the cross-sectional average of return skewness for\n",
    "\n",
    "- daily\n",
    "- monthly\n",
    "- quarterly and\n",
    "- the annual frequency.\n",
    "\n",
    "State your findings as: \"The lower the return frequency, the **[higher/lower]** the skeweness\". \n",
    "    \n",
    "State your findings as: \"All else equal, looking at average skewness, the lower the return frequency, the **[more/less]** Gaussian are equity returns\"\n",
    "\n",
    "How could you incorporate the frequency dependence of return skewness into a probability density model? \n",
    "\n"
   ]
  },
  {
   "cell_type": "code",
   "execution_count": 206,
   "metadata": {},
   "outputs": [
    {
     "data": {
      "text/plain": [
       "{'daily': 0.03, 'monthly': -0.63, 'quarterly': -0.85, 'annual': -0.8}"
      ]
     },
     "execution_count": 206,
     "metadata": {},
     "output_type": "execute_result"
    }
   ],
   "source": [
    "# Daily\n",
    "\n",
    "def average_return_skewness(df):\n",
    "    r_skews = [skew(df[col]) for col in df.columns]\n",
    "    return np.mean(r_skews)\n",
    "\n",
    "{\n",
    "    \"daily\": round(average_return_skewness(df), 2), \n",
    "    \"monthly\":  round(average_return_skewness(monthly_r), 2),\n",
    "    \"quarterly\":  round(average_return_skewness(quarterly_r), 2),\n",
    "    \"annual\":  round(average_return_skewness(annual_r), 2)\n",
    "}\n",
    "\n"
   ]
  },
  {
   "cell_type": "markdown",
   "metadata": {},
   "source": [
    "## Skewness inference\n",
    "\n",
    "The lower the return frequency, the **lower** the skeweness. Knowing that, since a gaussian is 0 skewed, the lower the return frequency the **less** gaussian are equity returns."
   ]
  },
  {
   "cell_type": "markdown",
   "metadata": {},
   "source": [
    "## C. Kurtosis  at Different Frequencies"
   ]
  },
  {
   "cell_type": "markdown",
   "metadata": {},
   "source": [
    "Compute the cross-sectional average of return kurtosis for\n",
    "\n",
    "- daily\n",
    "- monthly\n",
    "- quarterly and\n",
    "- the annual frequency.\n",
    "\n",
    "State your findings as: \"The lower the return frequency, the **[higher/lower]** the kurtosis\". \n",
    "    \n",
    "State your findings as: \"All else equal, looking at average kurtosis, the lower the return frequency, the **[more/less]** Gaussian are equity returns\"\n",
    "\n",
    "How could you incorporate your findings on kurtosis into a probability density model for returns?\n"
   ]
  },
  {
   "cell_type": "code",
   "execution_count": 207,
   "metadata": {},
   "outputs": [
    {
     "data": {
      "text/plain": [
       "{'daily': 21.23, 'monthly': 3.82, 'quarterly': 2.65, 'annual': 0.99}"
      ]
     },
     "execution_count": 207,
     "metadata": {},
     "output_type": "execute_result"
    }
   ],
   "source": [
    "def average_return_kurtosis(df):\n",
    "    r_kurtosis = [kurtosis(df[col]) for col in df.columns]\n",
    "    return np.mean(r_kurtosis)\n",
    "\n",
    "{\n",
    "    \"daily\": round(average_return_kurtosis(df), 2), \n",
    "    \"monthly\":  round(average_return_kurtosis(monthly_r), 2),\n",
    "    \"quarterly\":  round(average_return_kurtosis(quarterly_r), 2),\n",
    "    \"annual\":  round(average_return_kurtosis(annual_r), 2)\n",
    "}\n",
    "\n"
   ]
  },
  {
   "cell_type": "markdown",
   "metadata": {},
   "source": [
    "The lower the return frequency, the **lower** the kurtosis. The lower the frequency, the closer the kurtosis is to 1, \n",
    "hence it is **more** gaussian."
   ]
  },
  {
   "cell_type": "markdown",
   "metadata": {},
   "source": [
    "## D. Principal Component Analysis"
   ]
  },
  {
   "cell_type": "markdown",
   "metadata": {},
   "source": [
    "Display variance explained of the first three principal components of your return panel for\n",
    "\n",
    "- daily\n",
    "\n",
    "- monthly\n",
    "\n",
    "- quarterly\n",
    "\n",
    "- and annual returns.\n",
    "\n",
    "Is there any noticeable difference in the variance explained by the respective first principal component?"
   ]
  },
  {
   "cell_type": "code",
   "execution_count": 222,
   "metadata": {},
   "outputs": [],
   "source": [
    "from sklearn.decomposition import PCA"
   ]
  },
  {
   "cell_type": "code",
   "execution_count": 223,
   "metadata": {},
   "outputs": [
    {
     "data": {
      "text/plain": [
       "array([0.46139906, 0.05149596, 0.03350366])"
      ]
     },
     "execution_count": 223,
     "metadata": {},
     "output_type": "execute_result"
    }
   ],
   "source": [
    "# Daily\n",
    "pca = PCA(3)\n",
    "pca.fit(df)\n",
    "pca.explained_variance_ratio_\n"
   ]
  },
  {
   "cell_type": "code",
   "execution_count": null,
   "metadata": {
    "pycharm": {
     "name": "#%%\n"
    }
   },
   "outputs": [],
   "source": [
    "# Monthly\n",
    "pca_m = PCA(3)\n",
    "pca_m = pca_m.fit(monthly_r)\n",
    "pca_m.explained_variance_ratio_"
   ]
  },
  {
   "cell_type": "code",
   "execution_count": null,
   "metadata": {
    "pycharm": {
     "name": "#%%\n"
    }
   },
   "outputs": [],
   "source": [
    "# Quarterly\n",
    "pca_q = PCA(3)\n",
    "pca_q = pca_q.fit(quarterly_r)\n",
    "pca_q.explained_variance_ratio_"
   ]
  },
  {
   "cell_type": "code",
   "execution_count": null,
   "metadata": {
    "pycharm": {
     "name": "#%%\n"
    }
   },
   "outputs": [],
   "source": [
    "# Annually\n",
    "pca_a = PCA(3)\n",
    "pca_a = pca_a.fit(annual_r)\n",
    "pca_a.explained_variance_ratio_"
   ]
  },
  {
   "cell_type": "code",
   "execution_count": null,
   "metadata": {
    "pycharm": {
     "name": "#%%\n"
    }
   },
   "outputs": [],
   "source": [
    "## E. Probability Density Function for different Return Frequencies"
   ]
  },
  {
   "cell_type": "code",
   "execution_count": null,
   "metadata": {
    "pycharm": {
     "name": "#%%\n"
    }
   },
   "outputs": [],
   "source": [
    "# Quarterly\n",
    "pca_q = PCA(3)\n",
    "pca_q = pca_q.fit(quarterly_r)\n",
    "pca_q.explained_variance_ratio_"
   ]
  },
  {
   "cell_type": "code",
   "execution_count": null,
   "metadata": {
    "pycharm": {
     "name": "#%%\n"
    }
   },
   "outputs": [],
   "source": [
    "# Annually\n",
    "pca_a = PCA(3)\n",
    "pca_a = pca_a.fit(annual_r)\n",
    "pca_a.explained_variance_ratio_"
   ]
  },
  {
   "cell_type": "code",
   "execution_count": 224,
   "metadata": {},
   "outputs": [
    {
     "data": {
      "text/plain": [
       "array([0.44274192, 0.07203375, 0.04823897])"
      ]
     },
     "execution_count": 224,
     "metadata": {},
     "output_type": "execute_result"
    }
   ],
   "source": [
    "## E. Probability Density Function for different Return Frequencies"
   ]
  },
  {
   "cell_type": "markdown",
   "metadata": {},
   "source": [
    "## E. Probability Density Function for different Return Frequencies"
   ]
  },
  {
   "cell_type": "markdown",
   "metadata": {},
   "source": [
    "Adjust the function from class to print the probability density function of a return panel at differnt frequencies. The function shall read-in a daily return panel and plot for each ticker the realized return histogram at frequency (i) daily, (ii) monthly, (iii) quarterly and (iv) annual, together with the notion whether or not the density can be modelled as Gaussian. For the latter, run a Jarque-Bera test with a type I error of 10%. "
   ]
  },
  {
   "cell_type": "code",
   "execution_count": 274,
   "metadata": {},
   "outputs": [
    {
     "name": "stdout",
     "output_type": "stream",
     "text": [
      "VOW.DE\n",
      "Non-Gaussian Density\n"
     ]
    },
    {
     "data": {
      "image/png": "[encoded data removed]",
      "text/plain": [
       "<Figure size 432x288 with 1 Axes>"
      ]
     },
     "metadata": {
      "needs_background": "light"
     },
     "output_type": "display_data"
    },
    {
     "name": "stdout",
     "output_type": "stream",
     "text": [
      "1/N\n",
      "Non-Gaussian Density\n"
     ]
    },
    {
     "data": {
      "image/png": "[encoded data removed]",
      "text/plain": [
       "<Figure size 432x288 with 1 Axes>"
      ]
     },
     "metadata": {
      "needs_background": "light"
     },
     "output_type": "display_data"
    }
   ],
   "source": [
    "import pandas as pd\n",
    "from scipy import stats\n",
    "import matplotlib.pylab as plt\n",
    "\n",
    "def print_pdf(r,b,p):\n",
    "    #input: b #of bins in histogram\n",
    "    #input: r return panel\n",
    "    #input: p sec for pause\n",
    "    \n",
    "    \n",
    "    InvOpp  =  r.agg(['mean', 'std']).T \n",
    "    tickers = InvOpp.index\n",
    "    mean    = InvOpp[\"mean\"] #to be used in future to plot a pdf on top of histogram\n",
    "    sigma   = InvOpp[\"std\"]\n",
    "   \n",
    "    \n",
    "    counter = 0\n",
    "    for i in tickers:\n",
    "        print(i)\n",
    "        #JB test\n",
    "        JB_test = stats.jarque_bera(r.iloc[:,counter]) #JB test\n",
    "        if JB_test[1] > 0.1: #p-value of 10%, Generous for conclusing r can be modelled via N()\n",
    "            print('Gaussian Density, N()')\n",
    "        else:\n",
    "            print('Non-Gaussian Density')\n",
    "        #plot    \n",
    "        x = r.iloc[:,counter]\n",
    "        plt.hist(stats.zscore(x), bins=b, density=True )\n",
    "        plt.xlabel(\"z-score(Input)\")\n",
    "        plt.ylabel(\"prob(z-score(Input))\")\n",
    "        #plt.axis('tight')\n",
    "        plt.xlim(0,6)\n",
    "        plt.show()\n",
    "        plt.pause(p)\n",
    "        counter +=1\n",
    "\n",
    "print_pdf(quarterly_r.iloc[:,-2:], 30, 3)\n",
    "#print_pdf(quarterly_r.iloc[:,-2:], 30, 3)\n",
    "#print_pdf(quarterly_r.iloc[:,-2:], 30, 3)\n",
    "#print_pdf(quarterly_r.iloc[:,-2:], 30, 3)"
   ]
  },
  {
   "cell_type": "code",
   "execution_count": null,
   "metadata": {},
   "outputs": [],
   "source": []
  },
  {
   "cell_type": "code",
   "execution_count": null,
   "metadata": {},
   "outputs": [],
   "source": []
  }
 ],
 "metadata": {
  "kernelspec": {
   "display_name": "Python 3",
   "language": "python",
   "name": "python3"
  },
  "language_info": {
   "codemirror_mode": {
    "name": "ipython",
    "version": 3
   },
   "file_extension": ".py",
   "mimetype": "text/x-python",
   "name": "python",
   "nbconvert_exporter": "python",
   "pygments_lexer": "ipython3",
   "version": "3.7.6"
  }
 },
 "nbformat": 4,
 "nbformat_minor": 4
}
