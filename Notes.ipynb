{
 "cells": [
  {
   "cell_type": "markdown",
   "metadata": {},
   "source": [
    "# Cheat sheet Exam"
   ]
  },
  {
   "cell_type": "markdown",
   "metadata": {},
   "source": [
    "## Fetch Data"
   ]
  },
  {
   "cell_type": "markdown",
   "metadata": {},
   "source": [
    "## Single-Index Models\n",
    "\n",
    "See Bodie Kan S.256\n",
    "\n",
    "Returns:\n",
    "$r_i = E(r_i) + \\beta_i m + e_i$\n",
    "\n",
    "Variance\n",
    "$\\sigma_i^2 = \\beta_i^2 \\sigma_m^2 + \\sigma^2(e_i)$\n",
    "\n",
    "Covariance\n",
    "$Cov(r_i, r_j) = Cov(\\beta_i m + e_i, \\beta_j m + e_j)= \\beta_i \\beta_j \\sigma^2(m)$"
   ]
  },
  {
   "cell_type": "markdown",
   "metadata": {},
   "source": [
    " ## Volatility\n",
    " \n",
    "Realized variance estimate: $RV = \\sum^n_{i=1} r^2$ \n",
    "\n",
    "Realized annual vol: $\\sqrt{RV \\times 12}$"
   ]
  },
  {
   "cell_type": "markdown",
   "metadata": {},
   "source": [
    "## CAPM"
   ]
  },
  {
   "cell_type": "markdown",
   "metadata": {},
   "source": [
    "### Basic formulae\n",
    "\n",
    "#### Return of an asset i\n",
    "\n",
    "$ r_i = r_f + \\beta_i (r_m - r_i) $\n",
    "\n",
    "Return of asset i = Risk-free rate + beta i (market return rate - risk free rate)\n",
    "\n",
    "##### Variance of a portfolio's return\n",
    "\n",
    "Teh variance of a portfolio p is  $$ \\sigma ^2_p := w'_p \\Sigma w_p $$ with\n",
    "$w_p$ the portfolio weights, $\\Sigma$ the covariance matrix of assets.\n",
    "\n",
    "\n",
    "###### For an equal weight portfolio:\n",
    "\n",
    "The average variance of assets $\\bar\\sigma^2 := \\frac{1}{N} \\Sigma^{n}_{i=1} \\sigma^2_i$\n",
    "The average covariance is $\\bar{\\textit{Cov}} := \\frac{1}{N(N-1) \\Sigma^N_{i=1} \\Sigma^N_{m=1,m\\neq i}}$\n",
    "\n",
    "or : $ \\sigma^2_p =  \\frac{1}{N} \\times \\bar\\sigma^2 + \\frac{N-1}{N} \\times \\bar{\\textit{Cov}} $\n",
    "\n",
    "What we can read from this:\n",
    "- No correllation $\\rho = 0$? Only idiosyncratic risk  $\\sigma^2_p -> 0$ because $Cov -> 0, 1/N -> 0$\n",
    "- The systematic risk captures the co-movement $\\sigma^2_p -> Cov$ for $N->\\inf$ and $\\rho > 0$\n",
    "\n",
    "\n",
    "### Insights\n",
    "- the risk premium of asset a is proportional to the market risk premium of the market $ ERP_a = \\beta_a \\times ERP_m $\n",
    "- The proportinality coefficient is $\\beta_a = \\frac{Cov(r_a,r_m)}{Var_r(m)}$\n",
    "    - int quantifies the systematic risk\n",
    "    - Beta is negative -> risk premium is negative\n",
    "    - The expected risk premium of a stock is unrelated to the stocks idiosyncratic risk\n",
    "\n",
    "\n",
    "### Assumptions\n",
    "- Markowitz type investors\n",
    "    - All investors are price takers (they can't affect the prices)\n",
    "    - All investors have the sam single holding period (short sighted interests/(myopic)\n",
    "    - Investors can only invest into publicly traded assets\n",
    "    - Investors do not pay taxes or transaciton costs\n",
    "- Investors sare the same expectations about risk-free rate, the expected hiolding period return of all assets, and the covariance matrix\n",
    "    - All investors come up wiuth the same tangency portfolio\n",
    "    - TP coincides with the aggreagte market; thus can be called 'market portfolio'\n",
    "    - The proportion that each positive net supply asset has in the market portfolio coincides with the price of that asset multiplied by the number of by the number of share outstanding, and divided by the total market value of all positive net supply assets\n",
    "      - aggregate demand for an asset equals its fixed supply\n",
    "\n",
    "Hence:\n",
    "$E[r_m] - r_f = \\gamma_M \\times \\textit{Var}(r_M)$\n",
    "   - gamma is the risk aversion\n",
    "  \n",
    "$\\implies E[r_a] - r_f = \\beta_a \\times (E[r_m]-r_f), \\forall$ assets $a$\n",
    "\n",
    "### Security market line\n",
    "\n",
    "The line of fairly priced assets.\n",
    "\n",
    "- Mu-beta diagram\n",
    "- Assets below the SML are overvalued, assets above undervalued\n",
    "- SML goes thorugh risk-free rate in $\\mu =  0$\n",
    "\n",
    "\n",
    "### Risk analysis\n",
    "\n",
    "Decompose an assets's return variance into a dviersifiable & systematic component\n",
    "\n",
    "$$ \\sigma^2_i = \\beta^2_i \\times \\sigma^2_M + \\sigma^2_{\\epsilon,i}$$\n",
    "\n",
    "- $\\beta^2_i \\times \\sigma^2_M$ the systematic risk\n",
    "- $ \\sigma^2_{\\epsilon,i}$ the risk specific risk <- No risk premium for that risk, but diversifiable\n"
   ]
  },
  {
   "cell_type": "markdown",
   "metadata": {},
   "source": [
    "## Data-reader pandas\n",
    "\n",
    "Docs: https://buildmedia.readthedocs.org/media/pdf/pandas-datareader/stable/pandas-datareader.pdf\n",
    "\n",
    "Example\n",
    "\n",
    "<code>\n",
    "    import pandas_datareader.data as web\n",
    "    df = web.DataReader(\"ADS.DE\", 'quandl', '2015-01-01', '2015-01-05')"
   ]
  },
  {
   "cell_type": "markdown",
   "metadata": {},
   "source": [
    "## Fama-French Model\n",
    "\n",
    "### 3 Factor Model\n",
    "\n",
    "Like in CAPM, plus size and btm (Book-to-market) factor:\n",
    "\n",
    "- Size factor: Smaller Market Cap stocks tend to yield higher returns than High market cap stocks\n",
    "- BTM factor: Value stocks (high btm ratio) tend to yield better results than growth stocks (low btm ratio)\n",
    "\n",
    "$ r_i = r_f + \\beta_i (r_m - r_i) + \\beta_{SMB} + \\beta_{HML}$\n",
    "\n",
    "SMB = Small minus big. **Long small** cap stocks & **Short big** cap stocks\n",
    "\n",
    "HML = High minus low. **Long high** btm stocks (Value) & **Short low** btm cap (Growth)"
   ]
  },
  {
   "cell_type": "markdown",
   "metadata": {},
   "source": [
    "### 5 Factor Model\n",
    "\n",
    "Critic article: https://www.robeco.com/en/insights/2015/10/fama-french-5-factor-model-why-more-is-not-always-better.html\n",
    "\n",
    "Add two factors:\n",
    "- profitability (stocks with a **high operating profitability** perform **better**)\n",
    "- investment factor (stocks of companies with the **high total asset growth** have **below average returns**)\n",
    "\n",
    "\n",
    "\n",
    "$ R_{it} - R_{ft} = a_i + b_i (R_mkt - R_rf) + s_i \\beta_{SMB} + h_i \\beta_{HML} + c_i \\beta_{CMA} + r_i \\beta_{RMW}$\n",
    "\n",
    "- $R_it$ is the return on security or portfolio i for period t\n",
    "- $R_Ft$ is the riskfree return\n",
    "- $R_{Mt}$ is the return on the value-weight (VW) market portfolio,\n",
    "- $SMB_{t}$ is the return on a diversified portfolio of small stocks minus the return on a diversified portfolio of big stocks\n",
    "- $HML_{t}$ difference between the returns on diversified portfolios of high and low B/M stocks\n",
    "- $c_i$ capture all variation in expected returns, the intercept\n",
    "- $e_{it}$ is a zero-mean residual\n",
    "- $RMW_t$ is the difference between the returns on diversified portfolios of stocks with robust and weak profitability\n",
    "- $CMA_t$ is the difference between the returns on diversified portfolios of the stocks of low and high investment firms\n",
    "\n",
    "- If in 3 or 5 factor model capture all variation in expected returns, $a_i$ is zero for all securities and portfolios i\n",
    "\n",
    "**FROM** http://www.sciencedirect.com/science/article/pii/S0304405X14002323"
   ]
  },
  {
   "cell_type": "markdown",
   "metadata": {},
   "source": [
    "### Factor matrices\n",
    "\n",
    "|Model/Factor| RF_MKT | SMB | HML | RMW | CMA | REV | MOM |\n",
    "|------------|--------|-----|-----|-----|-----|-----|-----|\n",
    "| 3 Factor   | x      | x   | x   | _   | _   |  _  |  _  |\n",
    "| 5 Factor   | x      | x   | x   | x   | x   |  _  | _   |\n",
    "| 7 Factor   | x      | x   | x   | x   | x   | x   | x   |"
   ]
  },
  {
   "cell_type": "markdown",
   "metadata": {},
   "source": [
    "### Fama-Macbeth regression"
   ]
  },
  {
   "cell_type": "code",
   "execution_count": 2,
   "metadata": {},
   "outputs": [],
   "source": [
    "import pandas as pd\n",
    "import statsmodels.api as sm\n",
    "import numpy as np\n",
    "\n",
    "\n",
    "class FMacBeth:\n",
    "\n",
    "    def __init__(self, r: pd.DataFrame, x: pd.DataFrame, rf: pd.DataFrame):\n",
    "\n",
    "        self.r = r  # R_T: The return panel. T x I for I assets and T periods\n",
    "        self.rf = rf                     # R_f: Risk free rate. T x 1\n",
    "        self.x = x                       # E.g. FF7 Matrix\n",
    "\n",
    "        self.excess_ret = [self.r[col] for col in self.r]  # y = R_T_i - r_f, for all i in I\n",
    "\n",
    "        self.summary_table = None\n",
    "        self.B = None\n",
    "        self.lambda_T = None\n",
    "        self.lambda_MB = None\n",
    "        self.R_squared = None\n",
    "        self.t_stat = None\n",
    "        self.lambda_r2 = None\n",
    "        self.beta_r2 = None\n",
    "\n",
    "    def fit(self):\n",
    "        # First pass\n",
    "        self.B, self.beta_r2 = self._get_betas_for_assets()\n",
    "        # Second pass\n",
    "        self.lambda_T, self.lambda_r2 = self._get_lambda_per_t()\n",
    "        self.lambda_MB = np.mean(self.lambda_T)\n",
    "\n",
    "        T = len(self.lambda_T)\n",
    "        self.t_stat = self.lambda_MB / (np.std(self.lambda_T) / np.sqrt(T))\n",
    "\n",
    "    def _get_betas_for_assets(self):\n",
    "        B_I_T = []\n",
    "        r_sq = []\n",
    "        for r_exc in self.excess_ret:\n",
    "            res = sm.OLS(r_exc, self.x).fit()\n",
    "            B_i_T = res.params\n",
    "            B_I_T.append(B_i_T)\n",
    "            r_sq.append(res.rsquared)\n",
    "        return pd.DataFrame(B_I_T, index=self.x.columns), pd.DataFrame(r_sq, columns=self.x.columns)\n",
    "\n",
    "    def _get_lambda_per_t(self):\n",
    "        lambda_T_f = []\n",
    "        r_sq = []\n",
    "        for t, r_t in self.r.iterrows():\n",
    "            res = sm.OLS(r_t, self.B).fit()\n",
    "            lambda_t_f = res.params\n",
    "            lambda_T_f.append(lambda_t_f)\n",
    "            r_sq.append(res.rsquared)\n",
    "\n",
    "        return pd.DataFrame(lambda_T_f, index=self.r.index), pd.DataFrame(r_sq, index=self.r.index)\n",
    "\n"
   ]
  },
  {
   "cell_type": "markdown",
   "metadata": {},
   "source": [
    "## Fama-MacBeth Procedure Explained. Application: CAPM, 377 Stocks and T time points\n",
    "$$\n",
    "\\\\\n",
    "$$\n",
    "\n",
    "We use Fama-MacBeth regressions to identify $\\lambda$ and $\\beta$ using a two step approach, here applied to the CAPM\n",
    "$$\n",
    "\\\\\n",
    "$$\n",
    "\n",
    "\n",
    "**Step 1:** time-series regressions for each individual stock returns r to recover the stock's  $\\beta$\n",
    "$$\n",
    "r_{t=1,...,T} - r_{f} = \\alpha + \\beta (r_{MKT,t}-r_{f}) + \\epsilon_{t=1,...,T}\n",
    "$$\n",
    "$$\n",
    "\\\\\n",
    "$$\n",
    "\n",
    "**Step 2:** cross-sectional regressions for each time point t to recover $\\lambda_f$\n",
    "$$\n",
    "r_{i=1,...,377} - r_f = \\alpha + \\lambda \\times \\beta_{i=1,...,377} + \\epsilon_{i=1,...,377}\n",
    "$$\n",
    "$$\n",
    "\\\\\n",
    "$$\n",
    "\n",
    "**Step 3:**\n",
    "$$\n",
    "\\lambda_{FMacB} = \\frac{1}{T} \\sum_t \\lambda_t, \\qquad \\text{and} \\qquad t(\\lambda_{FMacB}) = \\frac{\\lambda_{FMacB}}{std(\\lambda_t)/ \\sqrt{T}}\n",
    "$$"
   ]
  },
  {
   "cell_type": "markdown",
   "metadata": {},
   "source": [
    "## GLS Regression"
   ]
  },
  {
   "cell_type": "markdown",
   "metadata": {},
   "source": [
    "#### Generalized Least Squares\n",
    "##### Why?\n",
    "Ordinary least squares (OLS) assumes iid errors. We omit this assumption and use GLS.\n",
    "GLS can deal with heteroscedasticity\n",
    "\n",
    "1. Homoscedastic: $\\Sigma$ a diagonal matrix with $\\sigma_i = \\sigma_j$ for all $i,j$\n",
    "2. Heterscedastic: $\\Sigma$ a diagonal matrix with $\\sigma_i = \\sigma_j$ for **at least one** $i \\neq j$\n",
    "3. Autocorrelated: $\\epsilon$ is autocorrelated if there is one $\\textit{cov}(\\epsilon_i,\\epsilon_j) \\neq 0$ with $i \\neq j$. The resulting matrix is non-diagonal"
   ]
  },
  {
   "cell_type": "markdown",
   "metadata": {},
   "source": [
    "## KPIs"
   ]
  },
  {
   "cell_type": "markdown",
   "metadata": {},
   "source": [
    "#### Sharpe ratio\n",
    "\n",
    "Measures the performance of an asset compared to a risk free asset, after adjusting the risk. It's the difference between the return of the investment and a risk-free investment, divided by the standard deviation of the investment (its volatility). A risk free investment is e.g. U.S. security treasury.\n",
    "\n",
    "\n",
    "$\\text{Ex ante}: \\frac{E\\left[R_{investment} - R_{market}\\right]}{\\sigma_investment} = \\frac{{E\\left[R_{investment} - R_{market}\\right]}}{\\sqrt{var(R_{investment}, R_{market})}}$\n",
    "\n",
    "$\\text{Ex post}: \\frac{R_{investment} - R_{market}}{\\sigma_investment} = \\frac{{R_{investment} - R_{market}}}{\\sqrt{var(R_{investment}, R_{market})}}$\n",
    "\n",
    "Information ratio is similar but instead of risk-free investment it uses a risky index (S&P 500).\n"
   ]
  },
  {
   "cell_type": "code",
   "execution_count": 2,
   "metadata": {},
   "outputs": [],
   "source": [
    "# InvOpp[\"SR_raw\"] = InvOpp.iloc[:,0] / InvOpp.iloc[:,1] # calc sharp ratio with r_market = 0"
   ]
  },
  {
   "cell_type": "markdown",
   "metadata": {},
   "source": [
    "## Statistical Tests"
   ]
  },
  {
   "cell_type": "code",
   "execution_count": 2,
   "metadata": {},
   "outputs": [],
   "source": [
    "# Some imports\n",
    "\n",
    "import pandas as pd\n",
    "import numpy as np"
   ]
  },
  {
   "cell_type": "markdown",
   "metadata": {},
   "source": [
    "#### Augmented Dickey-Fuller\n",
    "\n",
    "- Test for stationarity\n",
    "- Available in statsmodels\n"
   ]
  },
  {
   "cell_type": "code",
   "execution_count": 3,
   "metadata": {},
   "outputs": [
    {
     "ename": "NameError",
     "evalue": "name 'adfuller' is not defined",
     "output_type": "error",
     "traceback": [
      "\u001b[0;31m---------------------------------------------------------------------------\u001b[0m",
      "\u001b[0;31mNameError\u001b[0m                                 Traceback (most recent call last)",
      "\u001b[0;32m<ipython-input-3-37db7655ee1f>\u001b[0m in \u001b[0;36m<module>\u001b[0;34m\u001b[0m\n\u001b[1;32m      1\u001b[0m \u001b[0;31m# Example; Fast test for one column\u001b[0m\u001b[0;34m\u001b[0m\u001b[0;34m\u001b[0m\u001b[0;34m\u001b[0m\u001b[0m\n\u001b[1;32m      2\u001b[0m \u001b[0;34m\u001b[0m\u001b[0m\n\u001b[0;32m----> 3\u001b[0;31m \u001b[0madf_test\u001b[0m \u001b[0;34m=\u001b[0m \u001b[0madfuller\u001b[0m\u001b[0;34m(\u001b[0m\u001b[0mP_d\u001b[0m\u001b[0;34m.\u001b[0m\u001b[0miloc\u001b[0m\u001b[0;34m[\u001b[0m\u001b[0;34m:\u001b[0m\u001b[0;34m,\u001b[0m\u001b[0;36m1\u001b[0m\u001b[0;34m]\u001b[0m\u001b[0;34m)\u001b[0m\u001b[0;34m\u001b[0m\u001b[0;34m\u001b[0m\u001b[0m\n\u001b[0m\u001b[1;32m      4\u001b[0m \u001b[0mp_vle\u001b[0m \u001b[0;34m=\u001b[0m \u001b[0madf_test\u001b[0m\u001b[0;34m[\u001b[0m\u001b[0;36m1\u001b[0m\u001b[0;34m]\u001b[0m\u001b[0;34m\u001b[0m\u001b[0;34m\u001b[0m\u001b[0m\n\u001b[1;32m      5\u001b[0m \u001b[0mprint\u001b[0m\u001b[0;34m(\u001b[0m\u001b[0mp_vle\u001b[0m\u001b[0;34m)\u001b[0m\u001b[0;34m\u001b[0m\u001b[0;34m\u001b[0m\u001b[0m\n",
      "\u001b[0;31mNameError\u001b[0m: name 'adfuller' is not defined"
     ]
    }
   ],
   "source": [
    "# Example; Fast test for one column\n",
    "\n",
    "adf_test = adfuller(P_d.iloc[:,1])\n",
    "p_vle = adf_test[1]\n",
    "print(p_vle)     \n"
   ]
  },
  {
   "cell_type": "markdown",
   "metadata": {},
   "source": [
    "=> 99% certainty that PRICE data of AI.PA is NON-STATIONARY.\n",
    "\n",
    "Implications:\n",
    "- typical time-series models require stationary data\n",
    "- first difference price data to get it stationary. simple, geometric or log returns work."
   ]
  },
  {
   "cell_type": "code",
   "execution_count": 4,
   "metadata": {},
   "outputs": [],
   "source": [
    "# Example: Test for returns - applyingh to stationary data\n",
    "\n",
    "#ADF Test\n",
    "\n",
    "def ADF(r: pd.DataFrame) -> pd.DataFrame:\n",
    "    #input: pd.DataFrame\n",
    "    #output: p-values and print of a string\n",
    "    \n",
    "    output = \"Data is stationary\" #initialize\n",
    "    \n",
    "    pvle = pd.DataFrame()\n",
    "    \n",
    "    for i in range(0,r.shape[1]):\n",
    "        adf_test = adfuller(r.iloc[:,i])\n",
    "        pvle.loc[i,0] = adf_test[1]\n",
    "        \n",
    "        if adf_test[1] > 0.05:\n",
    "            output = \"At least one column of input data is NON-STATIONARY\"\n",
    "        \n",
    "        \n",
    "    print(output)\n",
    "    \n",
    "    return pvle"
   ]
  },
  {
   "cell_type": "markdown",
   "metadata": {},
   "source": [
    "#### Jarque-Berra Test\n",
    "\n",
    "//TODO"
   ]
  },
  {
   "cell_type": "markdown",
   "metadata": {},
   "source": [
    "## Making Data stationary / To returns"
   ]
  },
  {
   "cell_type": "markdown",
   "metadata": {},
   "source": [
    "#### Continuously Compounded Daily Returns\n",
    "\n",
    "- Makes data stationary\n",
    "\n",
    "$$\n",
    "r_t := ln (P_t / P_{t-1})\n",
    "$$\n"
   ]
  },
  {
   "cell_type": "code",
   "execution_count": 7,
   "metadata": {},
   "outputs": [],
   "source": [
    "# Example\n",
    "P_d = pd.DataFrame()\n",
    "\n",
    "r_d = np.log(P_d/P_d.shift())\n",
    "\n",
    "# But first row is nan, therefore\n",
    "r_d = r_d.dropna() "
   ]
  },
  {
   "cell_type": "code",
   "execution_count": 9,
   "metadata": {},
   "outputs": [
    {
     "ename": "KeyError",
     "evalue": "'mean'",
     "output_type": "error",
     "traceback": [
      "\u001b[0;31m---------------------------------------------------------------------------\u001b[0m",
      "\u001b[0;31mKeyError\u001b[0m                                  Traceback (most recent call last)",
      "\u001b[0;32m/anaconda3/envs/prim/lib/python3.7/site-packages/pandas/core/indexes/base.py\u001b[0m in \u001b[0;36mget_loc\u001b[0;34m(self, key, method, tolerance)\u001b[0m\n\u001b[1;32m   3079\u001b[0m             \u001b[0;32mtry\u001b[0m\u001b[0;34m:\u001b[0m\u001b[0;34m\u001b[0m\u001b[0;34m\u001b[0m\u001b[0m\n\u001b[0;32m-> 3080\u001b[0;31m                 \u001b[0;32mreturn\u001b[0m \u001b[0mself\u001b[0m\u001b[0;34m.\u001b[0m\u001b[0m_engine\u001b[0m\u001b[0;34m.\u001b[0m\u001b[0mget_loc\u001b[0m\u001b[0;34m(\u001b[0m\u001b[0mcasted_key\u001b[0m\u001b[0;34m)\u001b[0m\u001b[0;34m\u001b[0m\u001b[0;34m\u001b[0m\u001b[0m\n\u001b[0m\u001b[1;32m   3081\u001b[0m             \u001b[0;32mexcept\u001b[0m \u001b[0mKeyError\u001b[0m \u001b[0;32mas\u001b[0m \u001b[0merr\u001b[0m\u001b[0;34m:\u001b[0m\u001b[0;34m\u001b[0m\u001b[0;34m\u001b[0m\u001b[0m\n",
      "\u001b[0;32mpandas/_libs/index.pyx\u001b[0m in \u001b[0;36mpandas._libs.index.IndexEngine.get_loc\u001b[0;34m()\u001b[0m\n",
      "\u001b[0;32mpandas/_libs/index.pyx\u001b[0m in \u001b[0;36mpandas._libs.index.IndexEngine.get_loc\u001b[0;34m()\u001b[0m\n",
      "\u001b[0;32mpandas/_libs/hashtable_class_helper.pxi\u001b[0m in \u001b[0;36mpandas._libs.hashtable.PyObjectHashTable.get_item\u001b[0;34m()\u001b[0m\n",
      "\u001b[0;32mpandas/_libs/hashtable_class_helper.pxi\u001b[0m in \u001b[0;36mpandas._libs.hashtable.PyObjectHashTable.get_item\u001b[0;34m()\u001b[0m\n",
      "\u001b[0;31mKeyError\u001b[0m: 'mean'",
      "\nThe above exception was the direct cause of the following exception:\n",
      "\u001b[0;31mKeyError\u001b[0m                                  Traceback (most recent call last)",
      "\u001b[0;32m<ipython-input-9-f3ec6e0ac5a7>\u001b[0m in \u001b[0;36m<module>\u001b[0;34m\u001b[0m\n\u001b[1;32m      3\u001b[0m \u001b[0;34m\u001b[0m\u001b[0m\n\u001b[1;32m      4\u001b[0m \u001b[0;34m\u001b[0m\u001b[0m\n\u001b[0;32m----> 5\u001b[0;31m \u001b[0mInvOpp\u001b[0m\u001b[0;34m[\u001b[0m\u001b[0;34m\"mean\"\u001b[0m\u001b[0;34m]\u001b[0m \u001b[0;34m=\u001b[0m \u001b[0mInvOpp\u001b[0m\u001b[0;34m[\u001b[0m\u001b[0;34m\"mean\"\u001b[0m\u001b[0;34m]\u001b[0m\u001b[0;34m*\u001b[0m\u001b[0;36m252\u001b[0m\u001b[0;34m\u001b[0m\u001b[0;34m\u001b[0m\u001b[0m\n\u001b[0m\u001b[1;32m      6\u001b[0m \u001b[0mInvOpp\u001b[0m\u001b[0;34m[\u001b[0m\u001b[0;34m\"std\"\u001b[0m\u001b[0;34m]\u001b[0m  \u001b[0;34m=\u001b[0m \u001b[0mInvOpp\u001b[0m\u001b[0;34m[\u001b[0m\u001b[0;34m\"std\"\u001b[0m\u001b[0;34m]\u001b[0m\u001b[0;34m*\u001b[0m\u001b[0mnp\u001b[0m\u001b[0;34m.\u001b[0m\u001b[0msqrt\u001b[0m\u001b[0;34m(\u001b[0m\u001b[0;36m252\u001b[0m\u001b[0;34m)\u001b[0m\u001b[0;34m\u001b[0m\u001b[0;34m\u001b[0m\u001b[0m\n\u001b[1;32m      7\u001b[0m \u001b[0mInvOpp\u001b[0m\u001b[0;34m[\u001b[0m\u001b[0;34m\"SR_raw\"\u001b[0m\u001b[0;34m]\u001b[0m \u001b[0;34m=\u001b[0m \u001b[0mInvOpp\u001b[0m\u001b[0;34m[\u001b[0m\u001b[0;34m\"SR_raw\"\u001b[0m\u001b[0;34m]\u001b[0m\u001b[0;34m*\u001b[0m\u001b[0mnp\u001b[0m\u001b[0;34m.\u001b[0m\u001b[0msqrt\u001b[0m\u001b[0;34m(\u001b[0m\u001b[0;36m252\u001b[0m\u001b[0;34m)\u001b[0m\u001b[0;34m\u001b[0m\u001b[0;34m\u001b[0m\u001b[0m\n",
      "\u001b[0;32m/anaconda3/envs/prim/lib/python3.7/site-packages/pandas/core/frame.py\u001b[0m in \u001b[0;36m__getitem__\u001b[0;34m(self, key)\u001b[0m\n\u001b[1;32m   3022\u001b[0m             \u001b[0;32mif\u001b[0m \u001b[0mself\u001b[0m\u001b[0;34m.\u001b[0m\u001b[0mcolumns\u001b[0m\u001b[0;34m.\u001b[0m\u001b[0mnlevels\u001b[0m \u001b[0;34m>\u001b[0m \u001b[0;36m1\u001b[0m\u001b[0;34m:\u001b[0m\u001b[0;34m\u001b[0m\u001b[0;34m\u001b[0m\u001b[0m\n\u001b[1;32m   3023\u001b[0m                 \u001b[0;32mreturn\u001b[0m \u001b[0mself\u001b[0m\u001b[0;34m.\u001b[0m\u001b[0m_getitem_multilevel\u001b[0m\u001b[0;34m(\u001b[0m\u001b[0mkey\u001b[0m\u001b[0;34m)\u001b[0m\u001b[0;34m\u001b[0m\u001b[0;34m\u001b[0m\u001b[0m\n\u001b[0;32m-> 3024\u001b[0;31m             \u001b[0mindexer\u001b[0m \u001b[0;34m=\u001b[0m \u001b[0mself\u001b[0m\u001b[0;34m.\u001b[0m\u001b[0mcolumns\u001b[0m\u001b[0;34m.\u001b[0m\u001b[0mget_loc\u001b[0m\u001b[0;34m(\u001b[0m\u001b[0mkey\u001b[0m\u001b[0;34m)\u001b[0m\u001b[0;34m\u001b[0m\u001b[0;34m\u001b[0m\u001b[0m\n\u001b[0m\u001b[1;32m   3025\u001b[0m             \u001b[0;32mif\u001b[0m \u001b[0mis_integer\u001b[0m\u001b[0;34m(\u001b[0m\u001b[0mindexer\u001b[0m\u001b[0;34m)\u001b[0m\u001b[0;34m:\u001b[0m\u001b[0;34m\u001b[0m\u001b[0;34m\u001b[0m\u001b[0m\n\u001b[1;32m   3026\u001b[0m                 \u001b[0mindexer\u001b[0m \u001b[0;34m=\u001b[0m \u001b[0;34m[\u001b[0m\u001b[0mindexer\u001b[0m\u001b[0;34m]\u001b[0m\u001b[0;34m\u001b[0m\u001b[0;34m\u001b[0m\u001b[0m\n",
      "\u001b[0;32m/anaconda3/envs/prim/lib/python3.7/site-packages/pandas/core/indexes/base.py\u001b[0m in \u001b[0;36mget_loc\u001b[0;34m(self, key, method, tolerance)\u001b[0m\n\u001b[1;32m   3080\u001b[0m                 \u001b[0;32mreturn\u001b[0m \u001b[0mself\u001b[0m\u001b[0;34m.\u001b[0m\u001b[0m_engine\u001b[0m\u001b[0;34m.\u001b[0m\u001b[0mget_loc\u001b[0m\u001b[0;34m(\u001b[0m\u001b[0mcasted_key\u001b[0m\u001b[0;34m)\u001b[0m\u001b[0;34m\u001b[0m\u001b[0;34m\u001b[0m\u001b[0m\n\u001b[1;32m   3081\u001b[0m             \u001b[0;32mexcept\u001b[0m \u001b[0mKeyError\u001b[0m \u001b[0;32mas\u001b[0m \u001b[0merr\u001b[0m\u001b[0;34m:\u001b[0m\u001b[0;34m\u001b[0m\u001b[0;34m\u001b[0m\u001b[0m\n\u001b[0;32m-> 3082\u001b[0;31m                 \u001b[0;32mraise\u001b[0m \u001b[0mKeyError\u001b[0m\u001b[0;34m(\u001b[0m\u001b[0mkey\u001b[0m\u001b[0;34m)\u001b[0m \u001b[0;32mfrom\u001b[0m \u001b[0merr\u001b[0m\u001b[0;34m\u001b[0m\u001b[0;34m\u001b[0m\u001b[0m\n\u001b[0m\u001b[1;32m   3083\u001b[0m \u001b[0;34m\u001b[0m\u001b[0m\n\u001b[1;32m   3084\u001b[0m         \u001b[0;32mif\u001b[0m \u001b[0mtolerance\u001b[0m \u001b[0;32mis\u001b[0m \u001b[0;32mnot\u001b[0m \u001b[0;32mNone\u001b[0m\u001b[0;34m:\u001b[0m\u001b[0;34m\u001b[0m\u001b[0;34m\u001b[0m\u001b[0m\n",
      "\u001b[0;31mKeyError\u001b[0m: 'mean'"
     ]
    }
   ],
   "source": [
    "# Annualize \n",
    "InvOpp = pd.DataFrame()\n",
    "\n",
    "InvOpp[\"mean\"] = InvOpp[\"mean\"]*252\n",
    "InvOpp[\"std\"]  = InvOpp[\"std\"]*np.sqrt(252)\n",
    "InvOpp[\"SR_raw\"] = InvOpp[\"SR_raw\"]*np.sqrt(252)"
   ]
  },
  {
   "cell_type": "markdown",
   "metadata": {},
   "source": [
    "## 'Realized' Investment Opportunity Set"
   ]
  },
  {
   "cell_type": "code",
   "execution_count": null,
   "metadata": {},
   "outputs": [],
   "source": [
    "InvOpp = r_d.agg(['mean', 'std']).T  #get mean and vol as columns\n",
    "\n",
    "InvOpp[\"SR_raw\"] = InvOpp.iloc[:,0] / InvOpp.iloc[:,1] #calc sharp ratio with r_f = 0\n",
    "\n",
    "# Annualize\n",
    "InvOpp[\"mean\"] = InvOpp[\"mean\"]*252 # Remember 252 trading days\n",
    "InvOpp[\"std\"]  = InvOpp[\"std\"]*np.sqrt(252)\n",
    "InvOpp[\"SR_raw\"]=InvOpp[\"SR_raw\"]*np.sqrt(252)"
   ]
  },
  {
   "cell_type": "code",
   "execution_count": null,
   "metadata": {},
   "outputs": [],
   "source": []
  }
 ],
 "metadata": {
  "kernelspec": {
   "display_name": "Python 3",
   "language": "python",
   "name": "python3"
  },
  "language_info": {
   "codemirror_mode": {
    "name": "ipython",
    "version": 3
   },
   "file_extension": ".py",
   "mimetype": "text/x-python",
   "name": "python",
   "nbconvert_exporter": "python",
   "pygments_lexer": "ipython3",
   "version": "3.7.6"
  }
 },
 "nbformat": 4,
 "nbformat_minor": 2
}
