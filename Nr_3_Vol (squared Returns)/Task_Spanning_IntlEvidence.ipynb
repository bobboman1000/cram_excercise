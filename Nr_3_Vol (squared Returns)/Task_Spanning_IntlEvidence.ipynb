{
 "cells": [
  {
   "cell_type": "markdown",
   "metadata": {},
   "source": [
    "# Voluntary Problem Set\n",
    "\n",
    "This problem set allows you to play around with concepts from class and to solve some smaller problems on your own."
   ]
  },
  {
   "cell_type": "markdown",
   "metadata": {},
   "source": [
    "# Topic: 2nd Moment and First Moment Shocks to Equity returns\n",
    "\n",
    "you will learn about\n",
    "\n",
    "- Measuring Uncertainty in Equity Markets\n",
    "- Gram-Schmidt Orthogonalization\n",
    "- AR(1) regressions\n",
    "- principal component analysis\n",
    "- fitting stochastic volatility models\n",
    "- extracting volatility shocks\n",
    "- testing the so called 'spanning hypothesis' for equity volatility"
   ]
  },
  {
   "cell_type": "markdown",
   "metadata": {},
   "source": []
  },
  {
   "cell_type": "markdown",
   "metadata": {},
   "source": [
    "# Tasks\n",
    "\n",
    "We want to learn about the similarity and dissimilarity of US and EU uncertainty. Moreover, we want to learn whether return shocks span volatility shocks.\n",
    "\n",
    "**Hint:** When working with principal components, use normalized data (i.e. 'z')\n",
    "$$\n",
    "\\\\\n",
    "$$\n",
    "\n",
    "**A. Load-in US and EU data**. \n",
    "\n",
    "- ignore the equal weight portfolio (i.e. focus on individual stocks only) \n",
    "\n",
    "- Ensure that start and end date are aligned across both data sets \n",
    "Hint: (i.e. Full Outer Joint) \n",
    "https://www.datacamp.com/community/tutorials/joining-dataframes-pandas\n",
    "\n",
    " \n",
    "$$\n",
    "\\\\\n",
    "$$\n",
    "\n",
    "**B. Extract the first two principal components of the international return panel. Ensure that these are displayed with a mean of zero and a unit volatility**\n",
    "\n",
    "- How important are the first and the second principal components?\n",
    "\n",
    "- Plot the time series of both principal components\n",
    "\n",
    "\n",
    "$$\n",
    "\\\\\n",
    "$$\n",
    "\n",
    "**C. Compute PC1 of the EU returns and PC1 of the US returns. Ensure that these are displayed with a mean of zero and a unit volatility.**\n",
    "\n",
    "- Plot both PCs\n",
    "\n",
    "-  How large is the unconditional correlation of the EU and the US first principal component of returns?\n",
    "\n",
    "- Regress PC1 of the international return panel onto PC1 of EU equity. How large ist the adj-R2? How large are the point estimates and t-stats?\n",
    "\n",
    "- Regress PC1 of the international return panel onto the Gram-Schmidt orthogonalized first principal components of US and EU equity. Treat the common information in PC1(US equity) and PC1(EU equity) as US only information. How much additional variance explained does EU information (that is orthogonal to US information) add for explaining variations in PC1 of the international return panel?\n",
    "\n",
    "Hint on Gram-Schmidt: See example 6:35min/8:11min in https://www.youtube.com/watch?v=4Rzn-Pfvof4&list=PLyQSjcv8LwAHcUWCG-zRWbzuczxa0hB3n&index=3\n",
    "\n",
    "- Regress PC1 of the international return panel onto PC1 of US equity. How large ist the adj-R2? How large are the point estimates and t-stats?\n",
    "    \n",
    "$$\n",
    "\\\\\n",
    "$$\n",
    "\n",
    "**D.  Filter time-series of variance** for\n",
    "\\begin{itemize}\n",
    "\\item PC1(international equity)  \n",
    "\\item PC1(US equity)\n",
    "\\item PC1(EU equity)\n",
    "\\end{itemize}\n",
    "using univariate stochastic volatility models.\n",
    "\n",
    "- What are the pariwise correlations of the respective variances? Interpret results.\n",
    "\n",
    "- Plot the filtered variances in one graph. Looking at uncertainties, which currency area was the epicenter of the Covid pandemic?\n",
    "$$\n",
    "\\\\\n",
    "$$\n",
    "\n",
    "**E. Extract the time-series of volatility shocks** for \n",
    "\\begin{itemize}\n",
    "\\item PC1(international equity)  \n",
    "\\item PC1(US equity)\n",
    "\\item PC1(EU equity)\n",
    "\\end{itemize}\n",
    "\n",
    "Hint: look carefully at the parametrization of a SVM.\n",
    "\n",
    "- By how much do US volatility shocks outweigh ES volatility shocks?  \n",
    "\n",
    "- What are the pairwise correlations of volatility shocks?\n",
    "$$\n",
    "\\\\\n",
    "$$\n",
    "\n",
    "**F. Extract the time-series of return shocks** for \n",
    "\\begin{itemize}\n",
    "\\item PC1(international equity)  \n",
    "\\item PC1(US equity)\n",
    "\\item PC1(EU equity)\n",
    "\\end{itemize}\n",
    "\n",
    "What are the pariwise correlations of the return shocks? Interpret results.\n",
    " \n",
    "Hint: Assume the mean equation for these quantities follows an AR(1). \n",
    "$$\n",
    "\\\\\n",
    "$$\n",
    "\n",
    "**G. Do return shocks span volatility shocks? To answer the question, regress volatility shocks** of\n",
    "\\begin{itemize}\n",
    "\\item PC1(international equity)  \n",
    "\\item PC1(US equity)\n",
    "\\item PC1(EU equity)\n",
    "\\end{itemize}\n",
    "\n",
    "onto their respective return shocks. How large are the respective R2, point (t-stat) estimates? Interpret results."
   ]
  },
  {
   "cell_type": "markdown",
   "metadata": {},
   "source": [
    "A. Load-in US and EU data.\n",
    "ignore the equal weight portfolio (i.e. focus on individual stocks only)\n",
    "Ensure that start and end date are aligned across both data sets Hint: (i.e. Full Outer Joint) https://www.datacamp.com/community/tutorials/joining-dataframes-pandas\n"
   ]
  },
  {
   "cell_type": "code",
   "execution_count": 3,
   "metadata": {},
   "outputs": [],
   "source": [
    "import pandas as pd\n",
    "import numpy as np\n",
    "from sklearn.decomposition import PCA\n",
    "from sklearn.preprocessing import StandardScaler\n",
    "import statsmodels.api as sm\n",
    "import matplotlib.pyplot as plt"
   ]
  },
  {
   "cell_type": "markdown",
   "metadata": {},
   "source": [
    "# Task A"
   ]
  },
  {
   "cell_type": "code",
   "execution_count": 4,
   "metadata": {},
   "outputs": [],
   "source": [
    "es_r = pd.read_csv(\"r_ES50_d_cleaned_realized_Nov2020.csv\", parse_dates = True, index_col=0)\n",
    "sp_r = pd.read_csv(\"r_SP500_d_cleaned_Dec2020.csv\", parse_dates = True, index_col=0)\n",
    "es_r.drop(columns=[\"1/N\"], inplace=True)"
   ]
  },
  {
   "cell_type": "code",
   "execution_count": 5,
   "metadata": {},
   "outputs": [],
   "source": [
    "# Combine ES50 and S&P500 data\n",
    "df = sp_r.join(es_r, on=\"Date\", how=\"inner\")"
   ]
  },
  {
   "cell_type": "markdown",
   "metadata": {},
   "source": [
    "# Task B"
   ]
  },
  {
   "cell_type": "code",
   "execution_count": 6,
   "metadata": {},
   "outputs": [],
   "source": [
    "# Precprocessing: z-score scaling for pca\n",
    "sc = StandardScaler()\n",
    "df_scaled = pd.DataFrame(sc.fit_transform(df), columns=df.columns)"
   ]
  },
  {
   "cell_type": "code",
   "execution_count": 73,
   "metadata": {},
   "outputs": [
    {
     "data": {
      "image/png": "[encoded data removed]",
      "text/plain": [
       "<Figure size 432x288 with 1 Axes>"
      ]
     },
     "metadata": {
      "needs_background": "light"
     },
     "output_type": "display_data"
    }
   ],
   "source": [
    "pca = PCA(n_components=2)\n",
    "pcs_df_scaled = pca.fit_transform(df_scaled)\n",
    "pd.DataFrame(pcs_df_scaled, index=df.index).iloc[:,0:2].plot()\n",
    "plt.legend([\"Component1\", \"Component2\"])\n",
    "\n",
    "plt.show()"
   ]
  },
  {
   "cell_type": "code",
   "execution_count": 8,
   "metadata": {},
   "outputs": [
    {
     "name": "stdout",
     "output_type": "stream",
     "text": [
      "the explained vars of \n",
      " component 1: 0.33 \n",
      " component 2: 0.04\n"
     ]
    }
   ],
   "source": [
    "evar_comp1, evar_comp2 = pca.explained_variance_ratio_[0:2]\n",
    "print(f\"the explained vars of \\n component 1: {round(evar_comp1, 2)} \\n component 2: {round(evar_comp2, 2)}\")"
   ]
  },
  {
   "cell_type": "markdown",
   "metadata": {},
   "source": [
    "## Task C \n",
    "1. Compute PC1 of the EU returns and PC1 of the US returns. Ensure that these are displayed with a mean of zero and a unit volatility.\n",
    "2. Plot both PCs\n",
    "3. How large is the unconditional correlation of the EU and the US first principal component of returns?\n",
    "4. Regress PC1 of the international return panel onto PC1 of EU equity. How large ist the adj-R2? How large are the point estimates and t-stats?\n",
    "5. Regress PC1 of the international return panel onto the Gram-Schmidt orthogonalized first principal components of US and EU equity. Treat the common information in PC1(US equity) and PC1(EU equity) as US only information. How much additional variance explained does EU information (that is orthogonal to US information) add for explaining variations in PC1 of the international return panel?\n",
    "\n",
    "Hint on Gram-Schmidt: See example 6:35min/8:11min in https://www.youtube.com/watch?v=4Rzn-Pfvof4&list=PLyQSjcv8LwAHcUWCG-zRWbzuczxa0hB3n&index=3\n",
    "Regress PC1 of the international return panel onto PC1 of US equity. How large ist the adj-R2? How large are the point estimates and t-stats?"
   ]
  },
  {
   "cell_type": "code",
   "execution_count": 74,
   "metadata": {},
   "outputs": [
    {
     "data": {
      "image/png": "[encoded data removed]",
      "text/plain": [
       "<Figure size 432x288 with 1 Axes>"
      ]
     },
     "metadata": {
      "needs_background": "light"
     },
     "output_type": "display_data"
    },
    {
     "name": "stdout",
     "output_type": "stream",
     "text": [
      "the explained vars of \n",
      " component 1: 0.3453827563173755\n"
     ]
    },
    {
     "data": {
      "image/png": "[encoded data removed]",
      "text/plain": [
       "<Figure size 432x288 with 1 Axes>"
      ]
     },
     "metadata": {
      "needs_background": "light"
     },
     "output_type": "display_data"
    },
    {
     "name": "stdout",
     "output_type": "stream",
     "text": [
      "the explained vars of \n",
      " component 1: 0.45336953673574587\n"
     ]
    }
   ],
   "source": [
    "es_r_scaled = df_scaled[es_r.columns]\n",
    "sp_r_scaled = df_scaled[sp_r.columns]\n",
    "\n",
    "sp_pca = PCA(n_components=1)\n",
    "es_pca = PCA(n_components=1)\n",
    "\n",
    "pcs_sp_scaled = sp_pca.fit_transform(sp_r_scaled)\n",
    "pcs_es_scaled = es_pca.fit_transform(es_r_scaled)\n",
    "\n",
    "pd.DataFrame(pcs_sp_scaled, index=sp_r_scaled.index).iloc[:,0].plot()\n",
    "plt.legend([\"Component 1\"])\n",
    "plt.title(\"S&P 500 first two PCs\")\n",
    "plt.pause(1)\n",
    "\n",
    "print(f\"the explained vars of \\n component 1: {sp_pca.explained_variance_ratio_[0]}\")\n",
    "\n",
    "pd.DataFrame(pcs_es_scaled, index=es_r_scaled.index).iloc[:,0].plot()\n",
    "plt.legend([\"Component 1\"])\n",
    "plt.title(\"ES 50 first two PCs\")\n",
    "plt.pause(1)\n",
    "\n",
    "print(f\"the explained vars of \\n component 1: {es_pca.explained_variance_ratio_[0]}\")"
   ]
  },
  {
   "cell_type": "code",
   "execution_count": 10,
   "metadata": {},
   "outputs": [
    {
     "name": "stdout",
     "output_type": "stream",
     "text": [
      "Correlation of pc1_sp500 and pc1_es50 is \n",
      " 0.61\n"
     ]
    }
   ],
   "source": [
    "corr = np.corrcoef(pcs_sp_scaled[:,0], pcs_es_scaled[:,0])\n",
    "print(f\"Correlation of pc1_sp500 and pc1_es50 is \\n {round(corr[0][1], 2)}\")"
   ]
  },
  {
   "cell_type": "markdown",
   "metadata": {},
   "source": [
    "**Summary of EU and international data**"
   ]
  },
  {
   "cell_type": "code",
   "execution_count": 58,
   "metadata": {},
   "outputs": [
    {
     "data": {
      "text/html": [
       "<table class=\"simpletable\">\n",
       "<caption>GLS Regression Results</caption>\n",
       "<tr>\n",
       "  <th>Dep. Variable:</th>            <td>y</td>        <th>  R-squared:         </th> <td>   0.440</td> \n",
       "</tr>\n",
       "<tr>\n",
       "  <th>Model:</th>                   <td>GLS</td>       <th>  Adj. R-squared:    </th> <td>   0.440</td> \n",
       "</tr>\n",
       "<tr>\n",
       "  <th>Method:</th>             <td>Least Squares</td>  <th>  F-statistic:       </th> <td>   4109.</td> \n",
       "</tr>\n",
       "<tr>\n",
       "  <th>Date:</th>             <td>Tue, 08 Dec 2020</td> <th>  Prob (F-statistic):</th>  <td>  0.00</td>  \n",
       "</tr>\n",
       "<tr>\n",
       "  <th>Time:</th>                 <td>12:37:27</td>     <th>  Log-Likelihood:    </th> <td> -13593.</td> \n",
       "</tr>\n",
       "<tr>\n",
       "  <th>No. Observations:</th>      <td>  5224</td>      <th>  AIC:               </th> <td>2.719e+04</td>\n",
       "</tr>\n",
       "<tr>\n",
       "  <th>Df Residuals:</th>          <td>  5223</td>      <th>  BIC:               </th> <td>2.720e+04</td>\n",
       "</tr>\n",
       "<tr>\n",
       "  <th>Df Model:</th>              <td>     1</td>      <th>                     </th>     <td> </td>    \n",
       "</tr>\n",
       "<tr>\n",
       "  <th>Covariance Type:</th>      <td>nonrobust</td>    <th>                     </th>     <td> </td>    \n",
       "</tr>\n",
       "</table>\n",
       "<table class=\"simpletable\">\n",
       "<tr>\n",
       "   <td></td>     <th>coef</th>     <th>std err</th>      <th>t</th>      <th>P>|t|</th>  <th>[0.025</th>    <th>0.975]</th>  \n",
       "</tr>\n",
       "<tr>\n",
       "  <th>x1</th> <td>    0.2465</td> <td>    0.004</td> <td>   64.099</td> <td> 0.000</td> <td>    0.239</td> <td>    0.254</td>\n",
       "</tr>\n",
       "</table>\n",
       "<table class=\"simpletable\">\n",
       "<tr>\n",
       "  <th>Omnibus:</th>       <td>812.416</td> <th>  Durbin-Watson:     </th> <td>   2.439</td> \n",
       "</tr>\n",
       "<tr>\n",
       "  <th>Prob(Omnibus):</th> <td> 0.000</td>  <th>  Jarque-Bera (JB):  </th> <td>12298.973</td>\n",
       "</tr>\n",
       "<tr>\n",
       "  <th>Skew:</th>          <td> 0.216</td>  <th>  Prob(JB):          </th> <td>    0.00</td> \n",
       "</tr>\n",
       "<tr>\n",
       "  <th>Kurtosis:</th>      <td>10.504</td>  <th>  Cond. No.          </th> <td>    1.00</td> \n",
       "</tr>\n",
       "</table><br/><br/>Warnings:<br/>[1] Standard Errors assume that the covariance matrix of the errors is correctly specified."
      ],
      "text/plain": [
       "<class 'statsmodels.iolib.summary.Summary'>\n",
       "\"\"\"\n",
       "                            GLS Regression Results                            \n",
       "==============================================================================\n",
       "Dep. Variable:                      y   R-squared:                       0.440\n",
       "Model:                            GLS   Adj. R-squared:                  0.440\n",
       "Method:                 Least Squares   F-statistic:                     4109.\n",
       "Date:                Tue, 08 Dec 2020   Prob (F-statistic):               0.00\n",
       "Time:                        12:37:27   Log-Likelihood:                -13593.\n",
       "No. Observations:                5224   AIC:                         2.719e+04\n",
       "Df Residuals:                    5223   BIC:                         2.720e+04\n",
       "Df Model:                           1                                         \n",
       "Covariance Type:            nonrobust                                         \n",
       "==============================================================================\n",
       "                 coef    std err          t      P>|t|      [0.025      0.975]\n",
       "------------------------------------------------------------------------------\n",
       "x1             0.2465      0.004     64.099      0.000       0.239       0.254\n",
       "==============================================================================\n",
       "Omnibus:                      812.416   Durbin-Watson:                   2.439\n",
       "Prob(Omnibus):                  0.000   Jarque-Bera (JB):            12298.973\n",
       "Skew:                           0.216   Prob(JB):                         0.00\n",
       "Kurtosis:                      10.504   Cond. No.                         1.00\n",
       "==============================================================================\n",
       "\n",
       "Warnings:\n",
       "[1] Standard Errors assume that the covariance matrix of the errors is correctly specified.\n",
       "\"\"\""
      ]
     },
     "execution_count": 58,
     "metadata": {},
     "output_type": "execute_result"
    }
   ],
   "source": [
    "# Regress PC1 of the international return panel onto PC1 of EU equity. \n",
    "# How large ist the adj-R2? How large are the point estimates and t-stats?\n",
    "\n",
    "pc1_df = pcs_df_scaled[:,0]\n",
    "pc1_es = pcs_es_scaled[:,0]\n",
    "\n",
    "gls_reg_es_int = sm.GLS(pc1_es, pc1_df)\n",
    "fit_gls_reg_es_int = gls_reg_es_int.fit()\n",
    "\n",
    "fit_gls_reg_es_int.summary()"
   ]
  },
  {
   "cell_type": "code",
   "execution_count": 77,
   "metadata": {},
   "outputs": [],
   "source": [
    "pc1_sp = pcs_sp_scaled[:,0]\n",
    "\n",
    "gls_reg_int_sp = sm.GLS(pc1_sp, pc1_df)\n",
    "fit_gls_reg_int_sp = gls_reg_int_sp.fit()"
   ]
  },
  {
   "cell_type": "markdown",
   "metadata": {},
   "source": [
    "**Summary of US and international data**"
   ]
  },
  {
   "cell_type": "code",
   "execution_count": 78,
   "metadata": {},
   "outputs": [
    {
     "data": {
      "text/html": [
       "<table class=\"simpletable\">\n",
       "<caption>GLS Regression Results</caption>\n",
       "<tr>\n",
       "  <th>Dep. Variable:</th>            <td>y</td>        <th>  R-squared:         </th> <td>   0.995</td> \n",
       "</tr>\n",
       "<tr>\n",
       "  <th>Model:</th>                   <td>GLS</td>       <th>  Adj. R-squared:    </th> <td>   0.995</td> \n",
       "</tr>\n",
       "<tr>\n",
       "  <th>Method:</th>             <td>Least Squares</td>  <th>  F-statistic:       </th> <td>9.714e+05</td>\n",
       "</tr>\n",
       "<tr>\n",
       "  <th>Date:</th>             <td>Tue, 08 Dec 2020</td> <th>  Prob (F-statistic):</th>  <td>  0.00</td>  \n",
       "</tr>\n",
       "<tr>\n",
       "  <th>Time:</th>                 <td>13:24:22</td>     <th>  Log-Likelihood:    </th> <td> -6467.2</td> \n",
       "</tr>\n",
       "<tr>\n",
       "  <th>No. Observations:</th>      <td>  5224</td>      <th>  AIC:               </th> <td>1.294e+04</td>\n",
       "</tr>\n",
       "<tr>\n",
       "  <th>Df Residuals:</th>          <td>  5223</td>      <th>  BIC:               </th> <td>1.294e+04</td>\n",
       "</tr>\n",
       "<tr>\n",
       "  <th>Df Model:</th>              <td>     1</td>      <th>                     </th>     <td> </td>    \n",
       "</tr>\n",
       "<tr>\n",
       "  <th>Covariance Type:</th>      <td>nonrobust</td>    <th>                     </th>     <td> </td>    \n",
       "</tr>\n",
       "</table>\n",
       "<table class=\"simpletable\">\n",
       "<tr>\n",
       "   <td></td>     <th>coef</th>     <th>std err</th>      <th>t</th>      <th>P>|t|</th>  <th>[0.025</th>    <th>0.975]</th>  \n",
       "</tr>\n",
       "<tr>\n",
       "  <th>x1</th> <td>    0.9690</td> <td>    0.001</td> <td>  985.611</td> <td> 0.000</td> <td>    0.967</td> <td>    0.971</td>\n",
       "</tr>\n",
       "</table>\n",
       "<table class=\"simpletable\">\n",
       "<tr>\n",
       "  <th>Omnibus:</th>       <td>820.798</td> <th>  Durbin-Watson:     </th> <td>   2.438</td> \n",
       "</tr>\n",
       "<tr>\n",
       "  <th>Prob(Omnibus):</th> <td> 0.000</td>  <th>  Jarque-Bera (JB):  </th> <td>12700.010</td>\n",
       "</tr>\n",
       "<tr>\n",
       "  <th>Skew:</th>          <td>-0.217</td>  <th>  Prob(JB):          </th> <td>    0.00</td> \n",
       "</tr>\n",
       "<tr>\n",
       "  <th>Kurtosis:</th>      <td>10.626</td>  <th>  Cond. No.          </th> <td>    1.00</td> \n",
       "</tr>\n",
       "</table><br/><br/>Warnings:<br/>[1] Standard Errors assume that the covariance matrix of the errors is correctly specified."
      ],
      "text/plain": [
       "<class 'statsmodels.iolib.summary.Summary'>\n",
       "\"\"\"\n",
       "                            GLS Regression Results                            \n",
       "==============================================================================\n",
       "Dep. Variable:                      y   R-squared:                       0.995\n",
       "Model:                            GLS   Adj. R-squared:                  0.995\n",
       "Method:                 Least Squares   F-statistic:                 9.714e+05\n",
       "Date:                Tue, 08 Dec 2020   Prob (F-statistic):               0.00\n",
       "Time:                        13:24:22   Log-Likelihood:                -6467.2\n",
       "No. Observations:                5224   AIC:                         1.294e+04\n",
       "Df Residuals:                    5223   BIC:                         1.294e+04\n",
       "Df Model:                           1                                         \n",
       "Covariance Type:            nonrobust                                         \n",
       "==============================================================================\n",
       "                 coef    std err          t      P>|t|      [0.025      0.975]\n",
       "------------------------------------------------------------------------------\n",
       "x1             0.9690      0.001    985.611      0.000       0.967       0.971\n",
       "==============================================================================\n",
       "Omnibus:                      820.798   Durbin-Watson:                   2.438\n",
       "Prob(Omnibus):                  0.000   Jarque-Bera (JB):            12700.010\n",
       "Skew:                          -0.217   Prob(JB):                         0.00\n",
       "Kurtosis:                      10.626   Cond. No.                         1.00\n",
       "==============================================================================\n",
       "\n",
       "Warnings:\n",
       "[1] Standard Errors assume that the covariance matrix of the errors is correctly specified.\n",
       "\"\"\""
      ]
     },
     "execution_count": 78,
     "metadata": {},
     "output_type": "execute_result"
    }
   ],
   "source": [
    "fit_gls_reg_int_sp.summary()"
   ]
  },
  {
   "cell_type": "code",
   "execution_count": 72,
   "metadata": {},
   "outputs": [
    {
     "name": "stderr",
     "output_type": "stream",
     "text": [
      "/anaconda3/envs/prim/lib/python3.7/site-packages/ipykernel_launcher.py:13: DeprecationWarning: Calling np.sum(generator) is deprecated, and in the future will give a different result. Use np.sum(np.fromiter(generator)) or the python sum builtin instead.\n",
      "  del sys.path[0]\n"
     ]
    },
    {
     "data": {
      "text/html": [
       "<table class=\"simpletable\">\n",
       "<caption>GLS Regression Results</caption>\n",
       "<tr>\n",
       "  <th>Dep. Variable:</th>            <td>y</td>        <th>  R-squared:         </th> <td>   0.005</td> \n",
       "</tr>\n",
       "<tr>\n",
       "  <th>Model:</th>                   <td>GLS</td>       <th>  Adj. R-squared:    </th> <td>   0.005</td> \n",
       "</tr>\n",
       "<tr>\n",
       "  <th>Method:</th>             <td>Least Squares</td>  <th>  F-statistic:       </th> <td>   28.06</td> \n",
       "</tr>\n",
       "<tr>\n",
       "  <th>Date:</th>             <td>Tue, 08 Dec 2020</td> <th>  Prob (F-statistic):</th> <td>1.22e-07</td> \n",
       "</tr>\n",
       "<tr>\n",
       "  <th>Time:</th>                 <td>13:17:10</td>     <th>  Log-Likelihood:    </th> <td> -20267.</td> \n",
       "</tr>\n",
       "<tr>\n",
       "  <th>No. Observations:</th>      <td>  5224</td>      <th>  AIC:               </th> <td>4.054e+04</td>\n",
       "</tr>\n",
       "<tr>\n",
       "  <th>Df Residuals:</th>          <td>  5223</td>      <th>  BIC:               </th> <td>4.054e+04</td>\n",
       "</tr>\n",
       "<tr>\n",
       "  <th>Df Model:</th>              <td>     1</td>      <th>                     </th>     <td> </td>    \n",
       "</tr>\n",
       "<tr>\n",
       "  <th>Covariance Type:</th>      <td>nonrobust</td>    <th>                     </th>     <td> </td>    \n",
       "</tr>\n",
       "</table>\n",
       "<table class=\"simpletable\">\n",
       "<tr>\n",
       "   <td></td>     <th>coef</th>     <th>std err</th>      <th>t</th>      <th>P>|t|</th>  <th>[0.025</th>    <th>0.975]</th>  \n",
       "</tr>\n",
       "<tr>\n",
       "  <th>x1</th> <td>   62.0544</td> <td>   11.714</td> <td>    5.297</td> <td> 0.000</td> <td>   39.090</td> <td>   85.019</td>\n",
       "</tr>\n",
       "</table>\n",
       "<table class=\"simpletable\">\n",
       "<tr>\n",
       "  <th>Omnibus:</th>       <td>1233.434</td> <th>  Durbin-Watson:     </th> <td>   2.165</td> \n",
       "</tr>\n",
       "<tr>\n",
       "  <th>Prob(Omnibus):</th>  <td> 0.000</td>  <th>  Jarque-Bera (JB):  </th> <td>33583.272</td>\n",
       "</tr>\n",
       "<tr>\n",
       "  <th>Skew:</th>           <td> 0.510</td>  <th>  Prob(JB):          </th> <td>    0.00</td> \n",
       "</tr>\n",
       "<tr>\n",
       "  <th>Kurtosis:</th>       <td>15.379</td>  <th>  Cond. No.          </th> <td>    1.00</td> \n",
       "</tr>\n",
       "</table><br/><br/>Warnings:<br/>[1] Standard Errors assume that the covariance matrix of the errors is correctly specified."
      ],
      "text/plain": [
       "<class 'statsmodels.iolib.summary.Summary'>\n",
       "\"\"\"\n",
       "                            GLS Regression Results                            \n",
       "==============================================================================\n",
       "Dep. Variable:                      y   R-squared:                       0.005\n",
       "Model:                            GLS   Adj. R-squared:                  0.005\n",
       "Method:                 Least Squares   F-statistic:                     28.06\n",
       "Date:                Tue, 08 Dec 2020   Prob (F-statistic):           1.22e-07\n",
       "Time:                        13:17:10   Log-Likelihood:                -20267.\n",
       "No. Observations:                5224   AIC:                         4.054e+04\n",
       "Df Residuals:                    5223   BIC:                         4.054e+04\n",
       "Df Model:                           1                                         \n",
       "Covariance Type:            nonrobust                                         \n",
       "==============================================================================\n",
       "                 coef    std err          t      P>|t|      [0.025      0.975]\n",
       "------------------------------------------------------------------------------\n",
       "x1            62.0544     11.714      5.297      0.000      39.090      85.019\n",
       "==============================================================================\n",
       "Omnibus:                     1233.434   Durbin-Watson:                   2.165\n",
       "Prob(Omnibus):                  0.000   Jarque-Bera (JB):            33583.272\n",
       "Skew:                           0.510   Prob(JB):                         0.00\n",
       "Kurtosis:                      15.379   Cond. No.                         1.00\n",
       "==============================================================================\n",
       "\n",
       "Warnings:\n",
       "[1] Standard Errors assume that the covariance matrix of the errors is correctly specified.\n",
       "\"\"\""
      ]
     },
     "execution_count": 72,
     "metadata": {},
     "output_type": "execute_result"
    }
   ],
   "source": [
    "def gs(vectors):\n",
    "    v, w = vectors, [vectors[0]]\n",
    "    sum_j = 0\n",
    "    for i in range(1, len(vectors)):\n",
    "        j = i - 1\n",
    "        sum_j = sum_j + (np.dot(w[j], v[i]) / np.dot(w[j],w[j]))*w[j]\n",
    "        w.append(v[i] - sum_j)\n",
    "    return w\n",
    "\n",
    "def gram_schmidt(vectors):\n",
    "    basis = []\n",
    "    for v in vectors:\n",
    "        w = v - np.sum( np.dot(v,b)*b  for b in basis )\n",
    "        if (w > 1e-10).any():  \n",
    "            basis.append(w/np.linalg.norm(w))\n",
    "    return np.array(basis)\n",
    "\n",
    "orth_sp, orth_es = gram_schmidt([pc1_sp, pc1_es])\n",
    "\n",
    "\n",
    "\n",
    "orth_gls_reg = sm.GLS(pc1_df,np.transpose(orth_es))\n",
    "fit_orth_gls_reg = orth_gls_reg.fit()\n",
    "fit_orth_gls_reg.summary()"
   ]
  },
  {
   "cell_type": "code",
   "execution_count": 68,
   "metadata": {},
   "outputs": [
    {
     "data": {
      "text/plain": [
       "-5.6924002187278e-17"
      ]
     },
     "execution_count": 68,
     "metadata": {},
     "output_type": "execute_result"
    }
   ],
   "source": [
    "np.dot(orth_sp, orth_es)"
   ]
  },
  {
   "cell_type": "markdown",
   "metadata": {},
   "source": [
    "## Task D\n",
    "\n",
    "Filter time-series of variance for\n",
    "\n",
    "\\begin{itemize}\n",
    "    \\item PC1(international equity)  \n",
    "    \\item PC1(US equity)\n",
    "    \\item PC1(EU equity)\n",
    "\\end{itemize}\n",
    " \n",
    "using univariate stochastic volatility models.\n",
    "\n",
    "What are the pariwise correlations of the respective variances? Interpret results.\n",
    "\n",
    "Plot the filtered variances in one graph. Looking at uncertainties, which currency area was the epicenter of the Covid pandemic?"
   ]
  },
  {
   "cell_type": "code",
   "execution_count": 15,
   "metadata": {},
   "outputs": [
    {
     "name": "stdout",
     "output_type": "stream",
     "text": [
      "                           Statespace Model Results                           \n",
      "==============================================================================\n",
      "Dep. Variable:                      y   No. Observations:                 5224\n",
      "Model:                           QLSV   Log Likelihood              -11845.468\n",
      "Date:                Tue, 08 Dec 2020   AIC                          23696.937\n",
      "Time:                        11:43:45   BIC                          23716.620\n",
      "Sample:                             0   HQIC                         23703.820\n",
      "                               - 5224                                         \n",
      "Covariance Type:               robust                                         \n",
      "==============================================================================\n",
      "                 coef    std err          z      P>|z|      [0.025      0.975]\n",
      "------------------------------------------------------------------------------\n",
      "phi            0.9843      0.004    270.422      0.000       0.977       0.991\n",
      "sigma2_eta     0.0346      0.007      4.880      0.000       0.021       0.048\n",
      "mu             4.1545      0.167     24.839      0.000       3.827       4.482\n",
      "===================================================================================\n",
      "Ljung-Box (Q):                       66.53   Jarque-Bera (JB):              3137.30\n",
      "Prob(Q):                              0.01   Prob(JB):                         0.00\n",
      "Heteroskedasticity (H):               1.06   Skew:                            -1.25\n",
      "Prob(H) (two-sided):                  0.24   Kurtosis:                         5.86\n",
      "===================================================================================\n",
      "\n",
      "Warnings:\n",
      "[1] Quasi-maximum likelihood covariance matrix used for robustness to some misspecifications; calculated using the observed information matrix (complex-step) described in Harvey (1989).\n"
     ]
    }
   ],
   "source": [
    "from ipynb.fs.defs.Helper_SVM_Harvey import QLSV\n",
    "svm_df = QLSV(pc1_df - pc1_df.mean())\n",
    "res_df = svm_df.fit(cov_type='robust')\n",
    "print(res_df.summary())"
   ]
  },
  {
   "cell_type": "code",
   "execution_count": 16,
   "metadata": {},
   "outputs": [
    {
     "name": "stdout",
     "output_type": "stream",
     "text": [
      "                           Statespace Model Results                           \n",
      "==============================================================================\n",
      "Dep. Variable:                      y   No. Observations:                 5224\n",
      "Model:                           QLSV   Log Likelihood              -11721.316\n",
      "Date:                Tue, 08 Dec 2020   AIC                          23448.633\n",
      "Time:                        11:43:46   BIC                          23468.316\n",
      "Sample:                             0   HQIC                         23455.516\n",
      "                               - 5224                                         \n",
      "Covariance Type:               robust                                         \n",
      "==============================================================================\n",
      "                 coef    std err          z      P>|z|      [0.025      0.975]\n",
      "------------------------------------------------------------------------------\n",
      "phi            0.9854      0.004    280.201      0.000       0.978       0.992\n",
      "sigma2_eta     0.0266      0.006      4.571      0.000       0.015       0.038\n",
      "mu             2.3775      0.155     15.329      0.000       2.074       2.682\n",
      "===================================================================================\n",
      "Ljung-Box (Q):                       34.36   Jarque-Bera (JB):              2276.30\n",
      "Prob(Q):                              0.72   Prob(JB):                         0.00\n",
      "Heteroskedasticity (H):               1.07   Skew:                            -1.18\n",
      "Prob(H) (two-sided):                  0.15   Kurtosis:                         5.21\n",
      "===================================================================================\n",
      "\n",
      "Warnings:\n",
      "[1] Quasi-maximum likelihood covariance matrix used for robustness to some misspecifications; calculated using the observed information matrix (complex-step) described in Harvey (1989).\n",
      "                           Statespace Model Results                           \n",
      "==============================================================================\n",
      "Dep. Variable:                      y   No. Observations:                 5224\n",
      "Model:                           QLSV   Log Likelihood              -11837.414\n",
      "Date:                Tue, 08 Dec 2020   AIC                          23680.827\n",
      "Time:                        11:43:48   BIC                          23700.510\n",
      "Sample:                             0   HQIC                         23687.710\n",
      "                               - 5224                                         \n",
      "Covariance Type:               robust                                         \n",
      "==============================================================================\n",
      "                 coef    std err          z      P>|z|      [0.025      0.975]\n",
      "------------------------------------------------------------------------------\n",
      "phi            0.9837      0.004    256.398      0.000       0.976       0.991\n",
      "sigma2_eta     0.0361      0.007      4.896      0.000       0.022       0.050\n",
      "mu             4.0962      0.165     24.879      0.000       3.774       4.419\n",
      "===================================================================================\n",
      "Ljung-Box (Q):                       50.17   Jarque-Bera (JB):              4056.62\n",
      "Prob(Q):                              0.13   Prob(JB):                         0.00\n",
      "Heteroskedasticity (H):               1.13   Skew:                            -1.29\n",
      "Prob(H) (two-sided):                  0.01   Kurtosis:                         6.46\n",
      "===================================================================================\n",
      "\n",
      "Warnings:\n",
      "[1] Quasi-maximum likelihood covariance matrix used for robustness to some misspecifications; calculated using the observed information matrix (complex-step) described in Harvey (1989).\n"
     ]
    }
   ],
   "source": [
    "svm_cond_vol_df = np.exp(res_df.smoothed_state[0] / 2)\n",
    "\n",
    "svm_es = QLSV(pc1_es - pc1_es.mean())\n",
    "res_es = svm_es.fit(cov_type='robust')\n",
    "svm_cond_vol_es = np.exp(res_es.smoothed_state[0] / 2)\n",
    "print(res_es.summary())\n",
    "\n",
    "svm_sp = QLSV(pc1_sp - pc1_sp.mean())\n",
    "res_sp = svm_sp.fit(cov_type='robust')\n",
    "svm_cond_vol_sp = np.exp(res_sp.smoothed_state[0] / 2)\n",
    "print(res_sp.summary())\n"
   ]
  },
  {
   "cell_type": "code",
   "execution_count": 17,
   "metadata": {},
   "outputs": [
    {
     "name": "stdout",
     "output_type": "stream",
     "text": [
      "Correlation coefficients:\n",
      "INT-US 0.9928380448283929\n",
      "INT-EU 0.8230399684192348\n",
      "US-EU 0.7972245083368685\n"
     ]
    }
   ],
   "source": [
    "print(\"Correlation coefficients:\")\n",
    "print(f\"INT-US {str(np.corrcoef(svm_cond_vol_df, svm_cond_vol_sp)[0,1])}\")\n",
    "print(f\"INT-EU {str(np.corrcoef(svm_cond_vol_df, svm_cond_vol_es)[0,1])}\")\n",
    "print(f\"US-EU {str(np.corrcoef(svm_cond_vol_sp, svm_cond_vol_es)[0,1])}\")\n"
   ]
  },
  {
   "cell_type": "code",
   "execution_count": 18,
   "metadata": {},
   "outputs": [
    {
     "data": {
      "text/plain": [
       "<matplotlib.axes._subplots.AxesSubplot at 0x12005fc10>"
      ]
     },
     "execution_count": 18,
     "metadata": {},
     "output_type": "execute_result"
    },
    {
     "data": {
      "image/png": "[encoded data removed]",
      "text/plain": [
       "<Figure size 432x288 with 1 Axes>"
      ]
     },
     "metadata": {
      "needs_background": "light"
     },
     "output_type": "display_data"
    }
   ],
   "source": [
    "vols = pd.DataFrame({\"INT\": svm_cond_vol_df, \"EU\": svm_cond_vol_es, \"US\": svm_cond_vol_sp}, index=df_scaled.index)\n",
    "vols.plot()"
   ]
  },
  {
   "cell_type": "markdown",
   "metadata": {},
   "source": [
    "# Task E\n",
    "\n",
    "E. Extract the time-series of volatility shocks for\n",
    "\\begin{itemize}\n",
    "\\item PC1(international equity)  \n",
    "\\item PC1(US equity)\n",
    "\\item PC1(EU equity)\n",
    "\\end{itemize}\n",
    " \n",
    "Hint: look carefully at the parametrization of a SVM.\n",
    "\n",
    "By how much do US volatility shocks outweigh ES volatility shocks?\n",
    "\n",
    "What are the pairwise correlations of volatility shocks?"
   ]
  },
  {
   "cell_type": "code",
   "execution_count": 19,
   "metadata": {},
   "outputs": [
    {
     "name": "stdout",
     "output_type": "stream",
     "text": [
      "Corr INT-EU 0.25927330530574544\n",
      "Corr US-EU 0.2180815405866427\n",
      "Corr INT-US 0.9060776031648368\n"
     ]
    }
   ],
   "source": [
    "eta_df = res_df.smoothed_measurement_disturbance.flatten()\n",
    "eta_es = res_es.smoothed_measurement_disturbance.flatten()\n",
    "eta_sp = res_sp.smoothed_measurement_disturbance.flatten()\n",
    "\n",
    "\n",
    "print(\"Corr INT-EU\", np.corrcoef(eta_df, eta_es)[0,1])\n",
    "print(\"Corr US-EU\", np.corrcoef(eta_sp, eta_es)[0,1])\n",
    "print(\"Corr INT-US\", np.corrcoef(eta_df, eta_sp)[0,1])"
   ]
  },
  {
   "cell_type": "code",
   "execution_count": 30,
   "metadata": {},
   "outputs": [
    {
     "name": "stdout",
     "output_type": "stream",
     "text": [
      "Ratio is 0.031194175940328694\n"
     ]
    }
   ],
   "source": [
    "print(\"Ratio is\",  eta_sp.std() - eta_es.std())"
   ]
  },
  {
   "cell_type": "code",
   "execution_count": 27,
   "metadata": {},
   "outputs": [
    {
     "name": "stdout",
     "output_type": "stream",
     "text": [
      "Why isn't 0.07416896956029184 = 2.87651301593109\n"
     ]
    }
   ],
   "source": [
    "eta1 = res_df.smoothed_state[0,2] - 0.9843*res_df.smoothed_state[0,1]\n",
    "eta2 = res_df.smoothed_measurement_disturbance.flatten()\n",
    "\n",
    "print(f\"Why isn't {eta1} = {eta2[2]}?\")"
   ]
  },
  {
   "cell_type": "code",
   "execution_count": null,
   "metadata": {},
   "outputs": [],
   "source": [
    "# Task F"
   ]
  }
 ],
 "metadata": {
  "kernelspec": {
   "display_name": "Python 3",
   "language": "python",
   "name": "python3"
  },
  "language_info": {
   "codemirror_mode": {
    "name": "ipython",
    "version": 3
   },
   "file_extension": ".py",
   "mimetype": "text/x-python",
   "name": "python",
   "nbconvert_exporter": "python",
   "pygments_lexer": "ipython3",
   "version": "3.7.6"
  }
 },
 "nbformat": 4,
 "nbformat_minor": 4
}
