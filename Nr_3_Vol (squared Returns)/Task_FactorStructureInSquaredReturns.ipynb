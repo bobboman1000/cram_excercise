{
 "cells": [
  {
   "cell_type": "markdown",
   "metadata": {},
   "source": [
    "# Voluntary Problem Set\n",
    "\n",
    "This problem set allows you to play around with concepts from class and to solve some smaller problems on your own.\n"
   ]
  },
  {
   "cell_type": "markdown",
   "metadata": {},
   "source": [
    "# Topic: Factor Structure in Squared Returns\n",
    "\n",
    "Note: Squared Returns are ONE way to get a quick and dirty proxy for realized variance"
   ]
  },
  {
   "cell_type": "code",
   "execution_count": 1,
   "metadata": {},
   "outputs": [],
   "source": [
    "import pandas as pd\n",
    "import numpy as np\n",
    "import matplotlib.pyplot as plt\n",
    "\n",
    "from sklearn.decomposition import PCA"
   ]
  },
  {
   "cell_type": "markdown",
   "metadata": {},
   "source": [
    "## A. Load-in cleaned Daily log Return Data for ES 50 constituents (as used in class)\n",
    "\n",
    "Note: \n",
    "    - First observation is: January 5th 2000\n",
    "    - Last observation is:  November 12th 2020\n",
    "    - Nr of columns: 43 (42 firms and the equal-weight portfolio)"
   ]
  },
  {
   "cell_type": "code",
   "execution_count": 2,
   "metadata": {},
   "outputs": [
    {
     "name": "stdout",
     "output_type": "stream",
     "text": [
      "<class 'pandas.core.frame.DataFrame'>\n",
      "DatetimeIndex: 5383 entries, 2000-01-05 to 2020-11-12\n",
      "Data columns (total 43 columns):\n",
      " #   Column    Non-Null Count  Dtype  \n",
      "---  ------    --------------  -----  \n",
      " 0   ADS.DE    5383 non-null   float64\n",
      " 1   AI.PA     5383 non-null   float64\n",
      " 2   ALV.DE    5383 non-null   float64\n",
      " 3   ASML.AS   5383 non-null   float64\n",
      " 4   CS.PA     5383 non-null   float64\n",
      " 5   BBVA.MC   5383 non-null   float64\n",
      " 6   SAN.MC    5383 non-null   float64\n",
      " 7   BAS.DE    5383 non-null   float64\n",
      " 8   BAYN.DE   5383 non-null   float64\n",
      " 9   BMW.DE    5383 non-null   float64\n",
      " 10  BNP.PA    5383 non-null   float64\n",
      " 11  CRG.IR    5383 non-null   float64\n",
      " 12  SGO.PA    5383 non-null   float64\n",
      " 13  DAI.DE    5383 non-null   float64\n",
      " 14  DTE.DE    5383 non-null   float64\n",
      " 15  ENEL.MI   5383 non-null   float64\n",
      " 16  ENGI.PA   5383 non-null   float64\n",
      " 17  ENI.MI    5383 non-null   float64\n",
      " 18  EOAN.DE   5383 non-null   float64\n",
      " 19  FRE.DE    5383 non-null   float64\n",
      " 20  BN.PA     5383 non-null   float64\n",
      " 21  IBE.MC    5383 non-null   float64\n",
      " 22  INGA.AS   5383 non-null   float64\n",
      " 23  ISP.MI    5383 non-null   float64\n",
      " 24  OR.PA     5383 non-null   float64\n",
      " 25  MC.PA     5383 non-null   float64\n",
      " 26  MUV2.DE   5383 non-null   float64\n",
      " 27  NOKIA.HE  5383 non-null   float64\n",
      " 28  ORA.PA    5383 non-null   float64\n",
      " 29  PHIA.AS   5383 non-null   float64\n",
      " 30  SAF.PA    5383 non-null   float64\n",
      " 31  SAN.PA    5383 non-null   float64\n",
      " 32  SAP.DE    5383 non-null   float64\n",
      " 33  SU.PA     5383 non-null   float64\n",
      " 34  SIE.DE    5383 non-null   float64\n",
      " 35  TEF.MC    5383 non-null   float64\n",
      " 36  FP.PA     5383 non-null   float64\n",
      " 37  URW.AS    5383 non-null   float64\n",
      " 38  UNA.AS    5383 non-null   float64\n",
      " 39  DG.PA     5383 non-null   float64\n",
      " 40  VIV.PA    5383 non-null   float64\n",
      " 41  VOW.DE    5383 non-null   float64\n",
      " 42  1/N       5383 non-null   float64\n",
      "dtypes: float64(43)\n",
      "memory usage: 1.8 MB\n"
     ]
    }
   ],
   "source": [
    "r_df = pd.read_csv(\"r_ES50_d_cleaned_realized_Nov2020.csv\", parse_dates=True, index_col=0)\n",
    "r_df.info()"
   ]
  },
  {
   "cell_type": "markdown",
   "metadata": {},
   "source": [
    "## B. Create a Pandas DataFrame of cross-sectional Variance, using Squared Daily Returns \n",
    "$$\n",
    "\\\\\n",
    "$$\n",
    "\n",
    "Note: \n",
    "    - First, call that object: Var_r_mth1"
   ]
  },
  {
   "cell_type": "code",
   "execution_count": 3,
   "metadata": {},
   "outputs": [],
   "source": [
    "Var_r_mth1 = r_df.apply(lambda x: x**2)"
   ]
  },
  {
   "cell_type": "markdown",
   "metadata": {},
   "source": [
    "## C. Visualize the Time-Series of the Annualized Market Volatility (in %)  (i.e. equal weight portfolio)"
   ]
  },
  {
   "cell_type": "code",
   "execution_count": 4,
   "metadata": {},
   "outputs": [
    {
     "data": {
      "image/png": "[encoded data removed]",
      "text/plain": [
       "<Figure size 432x288 with 1 Axes>"
      ]
     },
     "metadata": {
      "needs_background": "light"
     },
     "output_type": "display_data"
    }
   ],
   "source": [
    "vol_r_mth1 = Var_r_mth1.apply(lambda x: np.sqrt(x*252)) # annualize\n",
    "\n",
    "vol_r_mth1[\"1/N\"].plot()\n",
    "plt.show()"
   ]
  },
  {
   "cell_type": "markdown",
   "metadata": {},
   "source": [
    "## D. Which Observations stand out?\n",
    "\n",
    "- 1. with regards to the peaks?\n",
    "\n",
    "- 2. with regard to whether or not vol clusters?\n",
    "\n",
    "- 3. with regard to whether vol changes abruptly or smoothly?\n",
    "\n",
    "- 4. Are the absolute magnitudes realistic?"
   ]
  },
  {
   "cell_type": "markdown",
   "metadata": {},
   "source": [
    "1. Late 2020 (Covid), 2009 the (financial crisis), 2016 ?\n",
    "2. Yes, it clusters\n",
    "3. Depends, Dotcom crisis was rather smooth, covid was not\n",
    "4. ?"
   ]
  },
  {
   "cell_type": "markdown",
   "metadata": {},
   "source": [
    "## E. Which Learning Points can you extract from the previous picture about what a good model for market vol shall look like?\n",
    "\n",
    "    - 1. Market volatility is [constant / time-varying].\n",
    "    - 2. Market Volatility is driven by diffusive innovations ONLY? [yes / no]\n",
    "    - 3. Market Volatility is driven by jumpy innovations ONLY? [yes / no]\n",
    "    - 4. Market Volatility is driven by both, diffusive and jump innovations? [yes / no]"
   ]
  },
  {
   "cell_type": "markdown",
   "metadata": {},
   "source": [
    "1. Time-variy\n",
    "2. No\n",
    "3. No\n",
    "4. Yes\n"
   ]
  },
  {
   "cell_type": "markdown",
   "metadata": {},
   "source": [
    "## F. Plot the Volatility of VOW.DE (annualized and in %)"
   ]
  },
  {
   "cell_type": "code",
   "execution_count": 5,
   "metadata": {},
   "outputs": [
    {
     "data": {
      "image/png": "[encoded data removed]",
      "text/plain": [
       "<Figure size 432x288 with 1 Axes>"
      ]
     },
     "metadata": {
      "needs_background": "light"
     },
     "output_type": "display_data"
    }
   ],
   "source": [
    "vol_r_mth1[[\"VOW.DE\", \"1/N\"]].plot()\n",
    "plt.show()"
   ]
  },
  {
   "cell_type": "markdown",
   "metadata": {},
   "source": [
    "## F.1 What is the Fundamental Event that caused Vol to go above 1400%?"
   ]
  },
  {
   "cell_type": "markdown",
   "metadata": {},
   "source": [
    "The Volkswagen 'infinity' squeeze. "
   ]
  },
  {
   "cell_type": "markdown",
   "metadata": {},
   "source": [
    "## F.2 Is a 1400% Vol Realistic?"
   ]
  },
  {
   "cell_type": "markdown",
   "metadata": {},
   "source": [
    "It is very unlikely in a 'regular' environment. The high amount of short positions held at this time (which were due at some point) at corresponding panic after a statement from Porsche, explains this extraordinary volatility though."
   ]
  },
  {
   "cell_type": "markdown",
   "metadata": {},
   "source": [
    "## G. Plot All Daily Volatilities (annualized and in %)"
   ]
  },
  {
   "cell_type": "code",
   "execution_count": 6,
   "metadata": {},
   "outputs": [
    {
     "data": {
      "image/png": "[encoded data removed]",
      "text/plain": [
       "<Figure size 432x288 with 1 Axes>"
      ]
     },
     "metadata": {
      "needs_background": "light"
     },
     "output_type": "display_data"
    }
   ],
   "source": [
    "vol_r_mth1.plot()\n",
    "plt.legend(loc='upper right', bbox_to_anchor=(2.5, 1), ncol=5)\n",
    "plt.show()"
   ]
  },
  {
   "cell_type": "markdown",
   "metadata": {},
   "source": [
    "## G.1 Which Observations stand out?\n",
    "\n",
    "    - 1. Common and idiosyncratic moves in vol are visible? [yes | no]\n",
    "    \n",
    "    - 2. Volatility clusters? [yes | no]\n",
    "    \n",
    "    - 3. Volatility is driven by diffusive shocks with sudden upward and downward jumps? [yes | no]\n",
    "    \n",
    "    - 4. Cross-sectional vol appears to be driven by a low dimensional factor structure? [yes | no]"
   ]
  },
  {
   "cell_type": "markdown",
   "metadata": {},
   "source": [
    "1. Yes\n",
    "2. yes\n",
    "3. yes\n",
    "4. Yes"
   ]
  },
  {
   "cell_type": "markdown",
   "metadata": {},
   "source": [
    "## H. Is Daily Market Volatility Stationary?"
   ]
  },
  {
   "cell_type": "markdown",
   "metadata": {},
   "source": [
    "**Yes**"
   ]
  },
  {
   "cell_type": "markdown",
   "metadata": {},
   "source": [
    "## I. Linear Factor Structure in Cross-Sectional Variance "
   ]
  },
  {
   "cell_type": "markdown",
   "metadata": {},
   "source": [
    "## I.1 How much Variance do each of the first 4 most important PCs explain? Round to two decimals\n",
    "\n",
    "Note: Use the variance panel from above  as the input to the PCA BUT ignore the equal weight portfolio. \n",
    "\n",
    "Variance explained of\n",
    "\n",
    "    - PC1 is []\n",
    "    \n",
    "    - PC2 is []\n",
    "    \n",
    "    - PC3 is []\n",
    "    \n",
    "    - PC4 is []"
   ]
  },
  {
   "cell_type": "code",
   "execution_count": 7,
   "metadata": {},
   "outputs": [
    {
     "data": {
      "text/plain": [
       "[0.42, 0.17, 0.11, 0.04]"
      ]
     },
     "execution_count": 7,
     "metadata": {},
     "output_type": "execute_result"
    }
   ],
   "source": [
    "df = Var_r_mth1.drop(columns=\"1/N\")\n",
    "\n",
    "pca = PCA(4)\n",
    "df_trans = pd.DataFrame(pca.fit_transform(df), index=df.index)\n",
    "df_trans_abs = df_trans.apply(lambda x: np.abs(x))\n",
    "[round(x, 2) for x in pca.explained_variance_ratio_]"
   ]
  },
  {
   "cell_type": "markdown",
   "metadata": {},
   "source": [
    "## I.2 Visualize the time-series of the first three PCs  \n",
    "\n",
    "Note: Create a 2x2 subplot where the time-series of market variance is on the last quadrant"
   ]
  },
  {
   "cell_type": "code",
   "execution_count": 8,
   "metadata": {},
   "outputs": [
    {
     "name": "stderr",
     "output_type": "stream",
     "text": [
      "/anaconda3/envs/prim/lib/python3.7/site-packages/matplotlib/figure.py:98: MatplotlibDeprecationWarning: \n",
      "Adding an axes using the same arguments as a previous axes currently reuses the earlier instance.  In a future version, a new instance will always be created and returned.  Meanwhile, this warning can be suppressed, and the future behavior ensured, by passing a unique label to each axes instance.\n",
      "  \"Adding an axes using the same arguments as a previous axes \"\n"
     ]
    },
    {
     "data": {
      "image/png": "[encoded data removed]",
      "text/plain": [
       "<Figure size 1080x504 with 4 Axes>"
      ]
     },
     "metadata": {
      "needs_background": "light"
     },
     "output_type": "display_data"
    }
   ],
   "source": [
    "idx = 221\n",
    "\n",
    "plt.figure(figsize=(15,7))\n",
    "\n",
    "for pc in df_trans.columns:\n",
    "    plt.title(pc)\n",
    "    plt.plot(df_trans_abs[pc])\n",
    "    plt.subplot(idx)\n",
    "    idx += 1\n",
    "    \n",
    "plt.plot(Var_r_mth1[\"1/N\"])\n",
    "plt.title(\"Market\")\n",
    "plt.subplot(224)\n",
    "\n",
    "plt.show()"
   ]
  },
  {
   "cell_type": "markdown",
   "metadata": {},
   "source": [
    "## I.3 Noteworthy Observations and Learning Points\n",
    "\n",
    "    - 1. Does the time-series of PC1 look similar to the time-series of market variance? [yes | no]\n",
    "    \n",
    "    - 2. Does the time-series of PC1 look similar to the time-series of VOW.DE's variance? [yes | no]\n",
    "    \n",
    "    - 3. How do you explain the observation?  [coincidence / unscaled data set / cannot explain]\n",
    "    \n",
    "    Hint: Read first two paragraphs of the introduction: \n",
    "    \n",
    "    https://www.ml.uni-saarland.de/code/trpca/PodSetHei-gcpr14-supp.pdf\n",
    "    \n",
    "    - 4. How to overcome this somewhat strange observation? [leave it, its fine / normalize data / erase abnormal data points]\n",
    "    \n",
    "    \n",
    "    Hint:\n",
    "    \n",
    "    https://towardsdatascience.com/scale-standardize-or-normalize-with-scikit-learn-6ccc7d176a02"
   ]
  },
  {
   "cell_type": "markdown",
   "metadata": {},
   "source": [
    "1. No\n",
    "2. Yes (somehow)\n",
    "3. Unscaled data\n",
    "4. normalize"
   ]
  },
  {
   "cell_type": "markdown",
   "metadata": {},
   "source": [
    "## I.4 How large is the correlation of PC1 with the variance of VOW.DE and the market's variance? Round to two decimals. "
   ]
  },
  {
   "cell_type": "code",
   "execution_count": 9,
   "metadata": {},
   "outputs": [
    {
     "data": {
      "text/plain": [
       "1.0"
      ]
     },
     "execution_count": 9,
     "metadata": {},
     "output_type": "execute_result"
    }
   ],
   "source": [
    "round(np.corrcoef(df_trans.iloc[:,0], df[\"VOW.DE\"])[0][1],2)"
   ]
  },
  {
   "cell_type": "code",
   "execution_count": 10,
   "metadata": {},
   "outputs": [
    {
     "data": {
      "text/plain": [
       "0.11"
      ]
     },
     "execution_count": 10,
     "metadata": {},
     "output_type": "execute_result"
    }
   ],
   "source": [
    "round(np.corrcoef(df_trans.iloc[:,0], Var_r_mth1[\"1/N\"])[0][1], 2)"
   ]
  },
  {
   "cell_type": "markdown",
   "metadata": {},
   "source": [
    "## J. Linear Factor Structure for STANDARDIZED Cross-Sectional Variance\n",
    "$$\n",
    "\\\\\n",
    "$$\n",
    "\n",
    "Note: Repeat the analysis from the previous Topic (\"I\") BUT use the z-score of each variance as the input to the PCA, (again: ignore the equal weight portfolio). Answer the following questions\n",
    "\n",
    "- 1. What is the correlation between PC1 and the market's variance? Round to two decimals.\n",
    "\n",
    "\n",
    "- 2. Is there support for a single-index model in cross-sectional variance, where the market's variance is the single factor? [yes / no]"
   ]
  },
  {
   "cell_type": "code",
   "execution_count": 11,
   "metadata": {},
   "outputs": [
    {
     "data": {
      "text/html": [
       "<div>\n",
       "<style scoped>\n",
       "    .dataframe tbody tr th:only-of-type {\n",
       "        vertical-align: middle;\n",
       "    }\n",
       "\n",
       "    .dataframe tbody tr th {\n",
       "        vertical-align: top;\n",
       "    }\n",
       "\n",
       "    .dataframe thead th {\n",
       "        text-align: right;\n",
       "    }\n",
       "</style>\n",
       "<table border=\"1\" class=\"dataframe\">\n",
       "  <thead>\n",
       "    <tr style=\"text-align: right;\">\n",
       "      <th></th>\n",
       "      <th>0</th>\n",
       "      <th>1</th>\n",
       "      <th>2</th>\n",
       "      <th>3</th>\n",
       "    </tr>\n",
       "    <tr>\n",
       "      <th>Date</th>\n",
       "      <th></th>\n",
       "      <th></th>\n",
       "      <th></th>\n",
       "      <th></th>\n",
       "    </tr>\n",
       "  </thead>\n",
       "  <tbody>\n",
       "    <tr>\n",
       "      <th>2000-01-05</th>\n",
       "      <td>3.309750</td>\n",
       "      <td>-5.568333</td>\n",
       "      <td>-1.304580</td>\n",
       "      <td>0.628182</td>\n",
       "    </tr>\n",
       "    <tr>\n",
       "      <th>2000-01-06</th>\n",
       "      <td>4.935881</td>\n",
       "      <td>-4.905038</td>\n",
       "      <td>2.015283</td>\n",
       "      <td>-2.466320</td>\n",
       "    </tr>\n",
       "    <tr>\n",
       "      <th>2000-01-07</th>\n",
       "      <td>3.267438</td>\n",
       "      <td>-7.780722</td>\n",
       "      <td>-0.445840</td>\n",
       "      <td>1.101325</td>\n",
       "    </tr>\n",
       "    <tr>\n",
       "      <th>2000-01-10</th>\n",
       "      <td>0.936308</td>\n",
       "      <td>-1.825379</td>\n",
       "      <td>-0.668864</td>\n",
       "      <td>0.477440</td>\n",
       "    </tr>\n",
       "    <tr>\n",
       "      <th>2000-01-11</th>\n",
       "      <td>0.821862</td>\n",
       "      <td>0.497669</td>\n",
       "      <td>0.164389</td>\n",
       "      <td>0.304082</td>\n",
       "    </tr>\n",
       "    <tr>\n",
       "      <th>...</th>\n",
       "      <td>...</td>\n",
       "      <td>...</td>\n",
       "      <td>...</td>\n",
       "      <td>...</td>\n",
       "    </tr>\n",
       "    <tr>\n",
       "      <th>2020-11-06</th>\n",
       "      <td>-0.765510</td>\n",
       "      <td>0.263461</td>\n",
       "      <td>-0.235707</td>\n",
       "      <td>-0.238203</td>\n",
       "    </tr>\n",
       "    <tr>\n",
       "      <th>2020-11-09</th>\n",
       "      <td>38.288428</td>\n",
       "      <td>21.036325</td>\n",
       "      <td>-13.258496</td>\n",
       "      <td>2.019488</td>\n",
       "    </tr>\n",
       "    <tr>\n",
       "      <th>2020-11-10</th>\n",
       "      <td>6.688831</td>\n",
       "      <td>7.344132</td>\n",
       "      <td>-5.491959</td>\n",
       "      <td>0.863716</td>\n",
       "    </tr>\n",
       "    <tr>\n",
       "      <th>2020-11-11</th>\n",
       "      <td>0.047636</td>\n",
       "      <td>0.567694</td>\n",
       "      <td>0.067840</td>\n",
       "      <td>-0.368780</td>\n",
       "    </tr>\n",
       "    <tr>\n",
       "      <th>2020-11-12</th>\n",
       "      <td>-0.400324</td>\n",
       "      <td>0.872164</td>\n",
       "      <td>-0.633943</td>\n",
       "      <td>0.164117</td>\n",
       "    </tr>\n",
       "  </tbody>\n",
       "</table>\n",
       "<p>5383 rows × 4 columns</p>\n",
       "</div>"
      ],
      "text/plain": [
       "                    0          1          2         3\n",
       "Date                                                 \n",
       "2000-01-05   3.309750  -5.568333  -1.304580  0.628182\n",
       "2000-01-06   4.935881  -4.905038   2.015283 -2.466320\n",
       "2000-01-07   3.267438  -7.780722  -0.445840  1.101325\n",
       "2000-01-10   0.936308  -1.825379  -0.668864  0.477440\n",
       "2000-01-11   0.821862   0.497669   0.164389  0.304082\n",
       "...               ...        ...        ...       ...\n",
       "2020-11-06  -0.765510   0.263461  -0.235707 -0.238203\n",
       "2020-11-09  38.288428  21.036325 -13.258496  2.019488\n",
       "2020-11-10   6.688831   7.344132  -5.491959  0.863716\n",
       "2020-11-11   0.047636   0.567694   0.067840 -0.368780\n",
       "2020-11-12  -0.400324   0.872164  -0.633943  0.164117\n",
       "\n",
       "[5383 rows x 4 columns]"
      ]
     },
     "execution_count": 11,
     "metadata": {},
     "output_type": "execute_result"
    }
   ],
   "source": [
    "from sklearn.preprocessing import StandardScaler\n",
    "df = Var_r_mth1.drop(columns=\"1/N\")\n",
    "\n",
    "sc = StandardScaler()\n",
    "df_norm = pd.DataFrame(sc.fit_transform(df), index=df.index)\n",
    "\n",
    "pca_sc = PCA(4)\n",
    "df_norm_trans = pd.DataFrame(pca_sc.fit_transform(df_norm), index=df_norm.index)\n",
    "df_norm_trans"
   ]
  },
  {
   "cell_type": "code",
   "execution_count": 12,
   "metadata": {},
   "outputs": [
    {
     "data": {
      "text/plain": [
       "0.95"
      ]
     },
     "execution_count": 12,
     "metadata": {},
     "output_type": "execute_result"
    }
   ],
   "source": [
    "# Correlation PC1 - Market\n",
    "round(np.corrcoef(df_norm_trans.iloc[:,0], Var_r_mth1[\"1/N\"])[0][1], 2)"
   ]
  },
  {
   "cell_type": "markdown",
   "metadata": {},
   "source": [
    "## K: Collection of Learning Points and Punchlines"
   ]
  },
  {
   "cell_type": "markdown",
   "metadata": {},
   "source": [
    "1. Imprecise variance estimates [can / cannot] lead to imprecise PCs"
   ]
  },
  {
   "cell_type": "markdown",
   "metadata": {},
   "source": [
    "2. PCA [should / should not] be applied to normalized data"
   ]
  },
  {
   "cell_type": "markdown",
   "metadata": {},
   "source": [
    "3. The z-score is [one useful / the only useful] normalization scheme"
   ]
  },
  {
   "cell_type": "markdown",
   "metadata": {},
   "source": [
    "4. Implications for a single-index model for cross-sectional variance [do / do not] change depending on whether one works with unnormalized or normalized data"
   ]
  },
  {
   "cell_type": "markdown",
   "metadata": {},
   "source": [
    "5. There is [weak / strong] support that cross-sectional (normalized) variance follows a single-index model with the (normalized) market variance being the single factor"
   ]
  },
  {
   "cell_type": "markdown",
   "metadata": {},
   "source": [
    "6. Roughly [30% / 70%] of variations in EU Blue Chip's (normalized) Return Variance is firm-specific"
   ]
  },
  {
   "cell_type": "markdown",
   "metadata": {},
   "source": [
    "1. **Can**\n",
    "2. PCA **should** be applied to normalized data\n",
    "3. The z-score is **one useful** normalization scheme\n",
    "4. **do**\n",
    "5. **weak** (Apparently strong)\n",
    "6. **70%** (Why 30?)"
   ]
  },
  {
   "cell_type": "markdown",
   "metadata": {},
   "source": [
    "## L. Cross-sectional Average of Skewness and Kurtosis"
   ]
  },
  {
   "cell_type": "markdown",
   "metadata": {},
   "source": [
    "## L.1. How Large is the cross-sectional average of skewness and kurtosis of Return Variance (i.e. squared returns)? Round to two decimals"
   ]
  },
  {
   "cell_type": "code",
   "execution_count": 167,
   "metadata": {},
   "outputs": [
    {
     "name": "stdout",
     "output_type": "stream",
     "text": [
      "Skewness is 17.6, Kurtosis is 598.91\n"
     ]
    }
   ],
   "source": [
    "from scipy.stats import skew, kurtosis\n",
    "\n",
    "sk = round(np.mean([ skew(Var_r_mth1[col]) for col in Var_r_mth1.columns]), 2)\n",
    "kurt = round(np.mean([ kurtosis(Var_r_mth1[col]) for col in Var_r_mth1.columns]),2)\n",
    "\n",
    "print(f\"Skewness is {sk}, Kurtosis is {kurt}\")"
   ]
  },
  {
   "cell_type": "markdown",
   "metadata": {},
   "source": [
    "## L.2. What are implications for parametric models of return variance?"
   ]
  },
  {
   "cell_type": "markdown",
   "metadata": {},
   "source": [
    "- 1. Strong positive skew in the variance of returns can be captured by [stochastic volatility / jumps / upward jumps] in the variance equation.\n",
    "\n",
    "- 2. Huge excess kurtosis in the variance of returns can be captured by [stochastic volatiltiy / vol in vol / upward jumps] in the variance equation"
   ]
  },
  {
   "cell_type": "code",
   "execution_count": null,
   "metadata": {},
   "outputs": [],
   "source": []
  },
  {
   "cell_type": "markdown",
   "metadata": {},
   "source": [
    "## M. Variance Forecast for next periods?\n",
    "\n",
    "    - 1. Can one do simple manipulations to squared returns to get forecasts of future variance? [yes / no]\n",
    "    \n",
    "    - 2. How do you evaluate the approach of fitting squared returns to an ARMA(p,q) parametrization to get variance forecasts? [optimistic / pessimistic]\n",
    "     \n",
    "    - 3. Are there variance measures with less measurement errors? [yes / no]"
   ]
  },
  {
   "cell_type": "code",
   "execution_count": null,
   "metadata": {},
   "outputs": [],
   "source": []
  },
  {
   "cell_type": "code",
   "execution_count": null,
   "metadata": {},
   "outputs": [],
   "source": []
  }
 ],
 "metadata": {
  "kernelspec": {
   "display_name": "Python 3",
   "language": "python",
   "name": "python3"
  },
  "language_info": {
   "codemirror_mode": {
    "name": "ipython",
    "version": 3
   },
   "file_extension": ".py",
   "mimetype": "text/x-python",
   "name": "python",
   "nbconvert_exporter": "python",
   "pygments_lexer": "ipython3",
   "version": "3.7.6"
  }
 },
 "nbformat": 4,
 "nbformat_minor": 4
}
