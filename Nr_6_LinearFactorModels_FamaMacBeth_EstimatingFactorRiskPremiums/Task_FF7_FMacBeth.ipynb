{
 "cells": [
  {
   "cell_type": "markdown",
   "metadata": {},
   "source": [
    "# Voluntary Problem Set\n",
    "\n",
    "This problem set allows you to play around with concepts from class and to solve some smaller subproblems on your own.\n",
    "\n",
    "Additional guidance is provided for concepts that did not make into our class discussion. "
   ]
  },
  {
   "cell_type": "markdown",
   "metadata": {},
   "source": [
    "# Topic: Style Investing and Unconditional (backward-looking) Market Prices of Factor Premiums in US Equity\n",
    "\n",
    "$$\n",
    "\\\\\n",
    "$$\n",
    "\n",
    "Long time ago, Fama and MacBeth proposed a two-step Least Squares approach to estimate the amount of **systematic risk (beta)** and its **market price of risk (lambda)** in two consecutive steps.\n",
    "\n",
    "$$\n",
    "\\quad E[ r_{i,t}] - r_t = \\alpha + \\lambda^{f} \\times \\beta_i^{f}   \n",
    "$$\n",
    "\n",
    "where $\\lambda^{f}$ is the unconditional market price of $f$-risk.\n",
    "\n",
    "To estimate that **unconditional market price of risk**, Fama and MacBeth propose a **two step estimation procedure:**\n",
    "\n",
    "- First, regress time-series of individual exess returns onto the risk factors to get betas of assets (i.e. time-series regressions). \n",
    "\n",
    "- Second, for each time point, regress the cross-section of asset's excess returns onto their beta estimate from step 1. (i.e. cross-sectional regression)  \n",
    "\n",
    "$$\n",
    "\\\\\n",
    "$$\n",
    "\n",
    "**We let data speak whether there is evidence for FF7 risk premia in daily US stock returns.**"
   ]
  },
  {
   "cell_type": "markdown",
   "metadata": {},
   "source": [
    "## Fama-MacBeth Procedure Explained. Application: CAPM, 377 Stocks and T time points\n",
    "$$\n",
    "\\\\\n",
    "$$\n",
    "\n",
    "We use Fama-MacBeth regressions to identify $\\lambda$ and $\\beta$ using a two step approach, here applied to the CAPM\n",
    "$$\n",
    "\\\\\n",
    "$$\n",
    "\n",
    "\n",
    "**Step 1:** time-series regressions for each individual stock returns r to recover the stock's  $\\beta$\n",
    "$$\n",
    "r_{t=1,...,T} - r_{f} = \\alpha + \\beta (r_{MKT,t}-r_{f}) + \\epsilon_{t=1,...,T}\n",
    "$$\n",
    "$$\n",
    "\\\\\n",
    "$$\n",
    "\n",
    "**Step 2:** cross-sectional regressions for each time point t to recover $\\lambda_f$\n",
    "$$\n",
    "r_{i=1,...,377} - r_f = \\alpha + \\lambda \\times \\beta_{i=1,...,377} + \\epsilon_{i=1,...,377}\n",
    "$$\n",
    "$$\n",
    "\\\\\n",
    "$$\n",
    "\n",
    "**Step 3:**\n",
    "$$\n",
    "\\lambda_{FMacB} = \\frac{1}{T} \\sum_t \\lambda_t, \\qquad \\text{and} \\qquad t(\\lambda_{FMacB}) = \\frac{\\lambda_{FMacB}}{std(\\lambda_t)/ \\sqrt{T}}\n",
    "$$"
   ]
  },
  {
   "cell_type": "code",
   "execution_count": 3,
   "metadata": {},
   "outputs": [],
   "source": [
    "# R_T: The return panel. T x I for I assets and T periods\n",
    "# R_f: Risk free rate. T x 1\n",
    "\n",
    "# Step 1: Regress for each i y = R_T_i - r_f and X = FF7 -> B_i_T\n",
    "\n",
    "# Step 2: Regress for each y = R_i_T; X = B_i_T -> lambda\n"
   ]
  },
  {
   "cell_type": "markdown",
   "metadata": {},
   "source": [
    "# Your Learning Points\n",
    "\n",
    "you will learn  \n",
    "\n",
    "- about the industry standard to estimate factor premiums, i.e. Fama-MacBeth procedure\n",
    "$$\n",
    "\\\\\n",
    "$$\n",
    "\n",
    "- that this standard approach has its problems when applying it to daily return data. \n",
    "$$\n",
    "\\\\\n",
    "$$\n",
    "\n",
    "- that there is weak evidence for factor premiums in daily returns. This motivates us to go beyond the traditional factor investment approach\n",
    "$$\n",
    "\\\\\n",
    "$$\n",
    "\n",
    "- Chances are high you will meet such an exercise during an interview with the financial industry"
   ]
  },
  {
   "cell_type": "markdown",
   "metadata": {},
   "source": [
    "# Background Knowledge (not necessary, yet helpful to grasp the context, for solving the Problem Set)\n",
    "$$\n",
    "\\\\\n",
    "$$\n",
    "\n",
    "**Students asking about FamaMacBeth**\n",
    "\n",
    "https://quant.stackexchange.com/questions/46746/rationale-of-fama-macbeth-procedure/46764\n"
   ]
  },
  {
   "cell_type": "markdown",
   "metadata": {},
   "source": [
    "# Background Knowledge (not necessary to solve Problem Set):\n",
    "$$\n",
    "\\\\\n",
    "$$\n",
    "\n",
    "**A worked-out example for Fama-MacBeth is here** unfortunately with a copy / paste error in the visuals, yet the audio is correct\n",
    "\n",
    "https://www.youtube.com/watch?v=9sIFMRDpxyI\n",
    " "
   ]
  },
  {
   "cell_type": "code",
   "execution_count": null,
   "metadata": {},
   "outputs": [],
   "source": []
  },
  {
   "cell_type": "code",
   "execution_count": null,
   "metadata": {},
   "outputs": [],
   "source": []
  },
  {
   "cell_type": "markdown",
   "metadata": {},
   "source": [
    "# Task A.0 [Degree of Difficulty: Beginner]: \n",
    "$$\n",
    "\\\\\n",
    "$$\n",
    "\n",
    "**Notice:**  **R_d.csv** contains merged data for FF7, Rf and SP500 constituents \n",
    "\n",
    "$$\n",
    "\\\\\n",
    "$$\n",
    "\n",
    "### A.0: Fama-MacBeth\n",
    "\n",
    "Program a Class FMacBeth() that implements the Fama-MacBeth procedure for the FF7 factor model (i.e. MKT, SMB, HML, RMW, CMA, Reversal, Momentum).  The output of the class shall be the estimates for the factor exposure (beta), unconditional market price of factor risk (lambda) and the respective adj-R-squares and t-stats. \n",
    "\n",
    "\n",
    "$$\n",
    "\\\\\n",
    "$$\n",
    "**Hint:**\n",
    "H_A_1: The attached file \"Helper_FamaMacBeth.ipynb\" contains a solution to the task\n",
    "$$\n",
    "\\\\\n",
    "$$\n",
    "\n",
    "\n",
    "\n",
    "\n",
    "\n",
    "\n"
   ]
  },
  {
   "cell_type": "markdown",
   "metadata": {},
   "source": [
    "# Task A.0 [Degree of Difficulty: Advanced]:\n",
    "\n",
    "$$\n",
    "\\\\\n",
    "$$\n",
    "\n",
    "**Notice:**  **R_d.csv** contains merged data for FF7, Rf and SP500 constituents \n",
    "\n",
    "$$\n",
    "\\\\\n",
    "$$\n",
    "\n",
    "### A.0: Fama-MacBeth\n",
    "\n",
    "Program a Class FMacBeth() that implements the Fama-MacBeth procedure for the FF7 factor model (i.e. MKT, SMB, HML, RMW, CMA, Reversal, Momentum).  The output of the class shall be the estimates for the factor exposure (beta), unconditional market price of factor risk (lambda) and the respective adj-R-squares and t-stats.  \n",
    "\n",
    "$$\n",
    "\\\\\n",
    "$$\n",
    "\n",
    "**Hint:**\n",
    "H_A_0:  (i) initialize the class with the panel of returns, panel of realized factor returns and the risk-free rate, (ii) one function of the class takes care of the time-series regression to compute beta, another function takes these betas as known features for the cross-sectional regressions, (iii) store adj-R2 and t-stats for each regression and class members.\n",
    "$$\n",
    "\\\\\n",
    "$$\n",
    "\n",
    " \n",
    "\n",
    "\n",
    " "
   ]
  },
  {
   "cell_type": "markdown",
   "metadata": {},
   "source": [
    "# Task A.0 [Degree of Difficulty: Expert]:\n",
    "\n",
    "\n",
    "$$\n",
    "\\\\\n",
    "$$\n",
    "\n",
    "**Notice:**  **R_d.csv** contains merged data for FF7, Rf and SP500 constituents \n",
    "\n",
    "$$\n",
    "\\\\\n",
    "$$\n",
    "\n",
    "### A.0: Fama-MacBeth\n",
    "\n",
    "Program a Class FMacBeth() that implements the Fama-MacBeth procedure for the FF7 factor model (i.e. MKT, SMB, HML, RMW, CMA, Reversal, Momentum).  The output of the class shall be the estimates for the factor exposure (beta), unconditional market price of factor risk (lambda) and the respective adj-R-squares and t-stats.\n",
    " \n",
    " \n",
    " "
   ]
  },
  {
   "cell_type": "code",
   "execution_count": 335,
   "metadata": {},
   "outputs": [],
   "source": [
    "import pandas as pd\n",
    "import statsmodels.api as sm\n",
    "import numpy as np\n",
    "\n",
    "\n",
    "class FMacBeth:\n",
    "\n",
    "    def __init__(self, r: pd.DataFrame, x: pd.DataFrame, rf: pd.DataFrame):\n",
    "\n",
    "        self.r = r  # R_T: The return panel. T x I for I assets and T periods\n",
    "        self.rf = rf                     # R_f: Risk free rate. T x 1\n",
    "        self.x = x                       # E.g. FF7 Matrix\n",
    "\n",
    "        self.summary_table = None\n",
    "        self.B = None\n",
    "        self.lambda_T = None\n",
    "        self.lambda_MB = None\n",
    "        self.R_squared = None\n",
    "        self.t_stat = None\n",
    "        self.lambda_r2 = None\n",
    "        self.beta_r2 = None\n",
    "\n",
    "    def fit(self):\n",
    "        # First pass\n",
    "        self.B, self.beta_r2 = self._get_betas_for_assets()\n",
    "        # Second pass\n",
    "        self.lambda_T, self.lambda_r2 = self._get_lambda_per_t()\n",
    "\n",
    "        T = len(self.lambda_T)\n",
    "        self.lambda_MB = np.mean(self.lambda_T)\n",
    "\n",
    "        self.t_stat = self.lambda_MB / (np.std(self.lambda_T) / np.sqrt(T))\n",
    "\n",
    "    def _get_betas_for_assets(self):\n",
    "        B_I_T = []\n",
    "        r_sq = []\n",
    "        for i in self.r:\n",
    "            excess_return = self.r[i] - self.rf\n",
    "            \n",
    "            X_ = sm.add_constant(self.x)  # Add alpha as alpha = (1 1 1 ... 1 1 1)\n",
    "            \n",
    "            res = sm.GLS(excess_return, X_).fit()\n",
    "            B_i_T = res.params.values[1:]\n",
    "            B_I_T.append(B_i_T)\n",
    "            r_sq.append(res.rsquared_adj)\n",
    "        return pd.DataFrame(B_I_T, index=self.r.columns), pd.DataFrame(r_sq, index=self.r.columns)\n",
    "\n",
    "    def _get_lambda_per_t(self):\n",
    "        lambda_T_f = []\n",
    "        r_sq = []\n",
    "        for t in range(self.r.shape[0]):\n",
    "            excess_return = self.r.iloc[t,:] - self.rf.iloc[t]\n",
    "            \n",
    "            X_ = sm.add_constant(self.B)         # Add alpha as alpha = (1 1 1 ... 1 1 1)\n",
    "            res = sm.GLS(excess_return, X_).fit()\n",
    "            lambda_t_f = res.params.values[1:]\n",
    "            lambda_T_f.append(lambda_t_f)\n",
    "            r_sq.append(res.rsquared_adj)\n",
    "\n",
    "        return pd.DataFrame(lambda_T_f, index=self.r.index), pd.DataFrame(r_sq, index=self.r.index)\n"
   ]
  },
  {
   "cell_type": "code",
   "execution_count": 336,
   "metadata": {},
   "outputs": [],
   "source": [
    "df = pd.read_csv(\"R_d.csv\", parse_dates=True, index_col=0)\n",
    "\n",
    "ff7 = df.iloc[:,0:8].drop(\"RF_x\", axis=1)\n",
    "rf = df.iloc[:,5]\n",
    "r = df.iloc[:,8:]\n",
    "\n",
    "\n",
    "fmb = FMacBeth(r, ff7, rf)\n",
    "\n",
    "fmb.fit()\n"
   ]
  },
  {
   "cell_type": "code",
   "execution_count": 337,
   "metadata": {},
   "outputs": [
    {
     "data": {
      "text/plain": [
       "0    1.17\n",
       "1    0.06\n",
       "2   -0.80\n",
       "3   -1.10\n",
       "4   -0.18\n",
       "5   -0.08\n",
       "6   -0.28\n",
       "Name: XLNX, dtype: float64"
      ]
     },
     "execution_count": 337,
     "metadata": {},
     "output_type": "execute_result"
    }
   ],
   "source": [
    "# A_1: Look at the betas using the print() command. Write down the betas for company XLNX\n",
    "np.round(fmb.B.loc[\"XLNX\",:], 2)"
   ]
  },
  {
   "cell_type": "code",
   "execution_count": 338,
   "metadata": {},
   "outputs": [],
   "source": [
    "# A_2: For which 'investment style' is XLNX well suited?\n",
    "\n",
    "# strong business cycle sensitivity: ['yes'/'no']\n",
    "a2_q1 = 'yes'\n",
    "\n",
    "# growth firm: ['yes'/'no']\n",
    "a2_q2 = 'yes'\n",
    "\n",
    "# lots of operating profit: ['yes'/'no']\n",
    "a2_q3 = 'no'\n",
    "\n",
    "# agressive investments: ['yes'/'no']\n",
    "a2_q4 = 'no'\n",
    "\n",
    "# short-term reversal return strategy: ['yes'/'no']\n",
    "a2_q5 = 'no'\n",
    "\n",
    "# positive momentum: ['yes'/'no']\n",
    "a2_q6 = 'no'"
   ]
  },
  {
   "cell_type": "code",
   "execution_count": 339,
   "metadata": {},
   "outputs": [
    {
     "name": "stdout",
     "output_type": "stream",
     "text": [
      "Variance explained by ff7 0.45\n",
      "Diversifiable 0.55\n"
     ]
    }
   ],
   "source": [
    "# Var explained\n",
    "print(\"Variance explained by ff7\", str(round(fmb.beta_r2.T[\"XLNX\"][0], 2)))\n",
    "      \n",
    "# Diversifiable\n",
    "print(\"Diversifiable\", str(round(1 - fmb.beta_r2.T[\"XLNX\"][0], 2)))"
   ]
  },
  {
   "cell_type": "code",
   "execution_count": 340,
   "metadata": {},
   "outputs": [],
   "source": [
    "########### Task A.3 ###########\n",
    "\n",
    "# How much of the variance in the XLNX's stock return is explained by the 7 factors?\n",
    "\n",
    "\n",
    "variance_explained_FF7_XLNX = 0.45\n",
    "\n",
    "\n",
    "########### Task A.4 ###########\n",
    "\n",
    "# What fraction of risk in XLNX is diversifiable, assuming the FF7 model holds?\n",
    "variance_diversifiable_FF7_XLNX = 0.55"
   ]
  },
  {
   "cell_type": "code",
   "execution_count": 341,
   "metadata": {},
   "outputs": [],
   "source": [
    "########### Task A.5 ###########\n",
    "\n",
    "# Which firm is best explained by the FF7 factors (give ticker as answer)? \n",
    "# How large is its respective adj-R2? "
   ]
  },
  {
   "cell_type": "code",
   "execution_count": 342,
   "metadata": {},
   "outputs": [
    {
     "data": {
      "text/plain": [
       "0    0.706979\n",
       "Name: JPM, dtype: float64"
      ]
     },
     "execution_count": 342,
     "metadata": {},
     "output_type": "execute_result"
    }
   ],
   "source": [
    "idx = np.argmax(fmb.beta_r2)\n",
    "fmb.beta_r2.iloc[idx]"
   ]
  },
  {
   "cell_type": "code",
   "execution_count": 343,
   "metadata": {},
   "outputs": [
    {
     "data": {
      "text/plain": [
       "0    1.23\n",
       "1   -0.35\n",
       "2    1.30\n",
       "3   -0.55\n",
       "4   -0.55\n",
       "5   -0.02\n",
       "6   -0.20\n",
       "Name: JPM, dtype: float64"
      ]
     },
     "execution_count": 343,
     "metadata": {},
     "output_type": "execute_result"
    }
   ],
   "source": [
    "round(fmb.B.loc[\"JPM\"], 2)"
   ]
  },
  {
   "cell_type": "code",
   "execution_count": 344,
   "metadata": {},
   "outputs": [],
   "source": [
    "best_fit_TSreg = 'JPM'\n",
    "best_R2_TSreg = 0.71\n",
    "beta_A5_MKT = 1.23\n",
    "beta_A5_SMB = -0.35\n",
    "beta_A5_HML = 1.30\n",
    "beta_A5_RMW = -0.55\n",
    "beta_A5_CMA = -0.55\n",
    "beta_A5_Rev = -0.02\n",
    "beta_A5_Mom = -0.20"
   ]
  },
  {
   "cell_type": "code",
   "execution_count": 345,
   "metadata": {},
   "outputs": [],
   "source": [
    "#### Characterize its 'investment style' in terms of its beta coefficients and in terms of a qualitative assessment:\n",
    "#'The firm whose return is best explained by FF is characterized as follows: a ['large'/'small']\n",
    "a5_q1 = 'large'\n",
    "\n",
    "#...firm with a ['cyclical'/'countercyclical']\n",
    "a5_q2 = 'cyclical'\n",
    "\n",
    "#...business model that based on balance sheet fundamentals can be classified as rather ['expensive'/'cheap']\n",
    "a5_q3 = 'cheap'\n",
    "\n",
    "#...with ['lots of'/'low']\n",
    "a5_q4 = 'low'\n",
    "\n",
    "#...operating profits and ['aggressive'/'passive']\n",
    "a5_q5 = 'aggressive' # **solution says passive, but why? CMA is negative**\n",
    "\n",
    "#...investment strategies and ['positive'/'negative']\n",
    "a5_q6 = 'negative'\n",
    "\n",
    "#...return momentum'\n"
   ]
  },
  {
   "cell_type": "code",
   "execution_count": 346,
   "metadata": {},
   "outputs": [
    {
     "data": {
      "text/plain": [
       "0    0.032812\n",
       "1    0.058918\n",
       "2   -0.037614\n",
       "3    0.024524\n",
       "4   -0.032094\n",
       "5   -0.105923\n",
       "6    0.305056\n",
       "dtype: float64"
      ]
     },
     "execution_count": 346,
     "metadata": {},
     "output_type": "execute_result"
    }
   ],
   "source": [
    "np.mean(fmb.lambda_T) * 252"
   ]
  },
  {
   "cell_type": "code",
   "execution_count": 347,
   "metadata": {},
   "outputs": [
    {
     "data": {
      "text/plain": [
       "0    0.03\n",
       "1    0.06\n",
       "2   -0.04\n",
       "3    0.02\n",
       "4   -0.03\n",
       "5   -0.11\n",
       "6    0.31\n",
       "dtype: float64"
      ]
     },
     "execution_count": 347,
     "metadata": {},
     "output_type": "execute_result"
    }
   ],
   "source": [
    "# A_6. State the Fama-MacBeth market price of risks (annualized in percent) and respective t-stats\n",
    "\n",
    "fmb_ann = fmb.lambda_MB.apply(lambda x: round(x * 252, 2))\n",
    "fmb_ann"
   ]
  },
  {
   "cell_type": "code",
   "execution_count": 348,
   "metadata": {},
   "outputs": [
    {
     "data": {
      "text/plain": [
       "0    0.50\n",
       "1    1.93\n",
       "2   -1.14\n",
       "3    0.92\n",
       "4   -1.09\n",
       "5   -1.19\n",
       "6    3.84\n",
       "dtype: float64"
      ]
     },
     "execution_count": 348,
     "metadata": {},
     "output_type": "execute_result"
    }
   ],
   "source": [
    "round(fmb.t_stat, 2)"
   ]
  },
  {
   "cell_type": "markdown",
   "metadata": {},
   "source": [
    "# Additional Tasks\n",
    "\n",
    "\n",
    "### A_1: Look at the betas using the print() command. Write down the betas for company XLNX\n",
    "\n",
    " \n",
    "\n",
    "\n",
    "### A_2: For which 'investment style' is XLNX well suited?\n",
    "\n",
    " \n",
    "\n",
    "\n",
    "### A_3: How much of the variance in the XLNX's stock return is explained by the 7 factors? \n",
    "\n",
    " \n",
    "### A_4: What fraction of risk in XLNX is diversifiable, assuming the FF7 model holds?\n",
    "\n",
    "\n",
    "### A_5: Which firm is best explained by the FF7 factors? How large is its respective adj-R2? Characterize its 'investment style' in terms of its beta coefficients and in terms of a qualitative assessment\n",
    " \n",
    "\n",
    "### A_6. State the Fama-MacBeth market price of risks (annualized in percent) and respective t-stats \n",
    " \n",
    "\n",
    "\n",
    "### A_7. What is the main reason for these disappointing results?\n",
    "\n",
    " "
   ]
  },
  {
   "cell_type": "code",
   "execution_count": null,
   "metadata": {},
   "outputs": [],
   "source": []
  },
  {
   "cell_type": "code",
   "execution_count": null,
   "metadata": {},
   "outputs": [],
   "source": []
  },
  {
   "cell_type": "code",
   "execution_count": null,
   "metadata": {},
   "outputs": [],
   "source": []
  },
  {
   "cell_type": "code",
   "execution_count": null,
   "metadata": {},
   "outputs": [],
   "source": []
  },
  {
   "cell_type": "code",
   "execution_count": null,
   "metadata": {},
   "outputs": [],
   "source": []
  }
 ],
 "metadata": {
  "kernelspec": {
   "display_name": "Python 3",
   "language": "python",
   "name": "python3"
  },
  "language_info": {
   "codemirror_mode": {
    "name": "ipython",
    "version": 3
   },
   "file_extension": ".py",
   "mimetype": "text/x-python",
   "name": "python",
   "nbconvert_exporter": "python",
   "pygments_lexer": "ipython3",
   "version": "3.7.6"
  }
 },
 "nbformat": 4,
 "nbformat_minor": 2
}
